{
  "nbformat": 4,
  "nbformat_minor": 0,
  "metadata": {
    "colab": {
      "name": "Untitled3.ipynb",
      "provenance": [],
      "toc_visible": true,
      "authorship_tag": "ABX9TyNmE0n3s1qY8UbVzuSwUXs2",
      "include_colab_link": true
    },
    "kernelspec": {
      "name": "python3",
      "display_name": "Python 3"
    },
    "language_info": {
      "name": "python"
    }
  },
  "cells": [
    {
      "cell_type": "markdown",
      "metadata": {
        "id": "view-in-github",
        "colab_type": "text"
      },
      "source": [
        "<a href=\"https://colab.research.google.com/github/Nikhil14091997/ML-ZoomCamp/blob/main/HW-Week-6.ipynb\" target=\"_parent\"><img src=\"https://colab.research.google.com/assets/colab-badge.svg\" alt=\"Open In Colab\"/></a>"
      ]
    },
    {
      "cell_type": "code",
      "metadata": {
        "id": "JkxyYAnaMpE3"
      },
      "source": [
        "import pandas as pd\n",
        "import numpy as np\n",
        "import matplotlib.pyplot as plt\n",
        "import seaborn as sns"
      ],
      "execution_count": 1,
      "outputs": []
    },
    {
      "cell_type": "code",
      "metadata": {
        "colab": {
          "base_uri": "https://localhost:8080/"
        },
        "id": "gffdvWa2MxAy",
        "outputId": "da95b7c2-7abb-4671-d0cb-55b9f21df950"
      },
      "source": [
        "!wget https://raw.githubusercontent.com/alexeygrigorev/datasets/master/AB_NYC_2019.csv\n"
      ],
      "execution_count": 2,
      "outputs": [
        {
          "output_type": "stream",
          "name": "stdout",
          "text": [
            "--2021-10-20 09:48:45--  https://raw.githubusercontent.com/alexeygrigorev/datasets/master/AB_NYC_2019.csv\n",
            "Resolving raw.githubusercontent.com (raw.githubusercontent.com)... 185.199.111.133, 185.199.108.133, 185.199.110.133, ...\n",
            "Connecting to raw.githubusercontent.com (raw.githubusercontent.com)|185.199.111.133|:443... connected.\n",
            "HTTP request sent, awaiting response... 200 OK\n",
            "Length: 7077973 (6.8M) [text/plain]\n",
            "Saving to: ‘AB_NYC_2019.csv’\n",
            "\n",
            "AB_NYC_2019.csv     100%[===================>]   6.75M  --.-KB/s    in 0.07s   \n",
            "\n",
            "2021-10-20 09:48:45 (96.8 MB/s) - ‘AB_NYC_2019.csv’ saved [7077973/7077973]\n",
            "\n"
          ]
        }
      ]
    },
    {
      "cell_type": "code",
      "metadata": {
        "colab": {
          "base_uri": "https://localhost:8080/",
          "height": 405
        },
        "id": "a71B0v5xM5Ux",
        "outputId": "ecff7e2a-bcd8-4bb1-b070-c93b50fd54a9"
      },
      "source": [
        "df = pd.read_csv('AB_NYC_2019.csv')\n",
        "df.head()"
      ],
      "execution_count": 3,
      "outputs": [
        {
          "output_type": "execute_result",
          "data": {
            "text/html": [
              "<div>\n",
              "<style scoped>\n",
              "    .dataframe tbody tr th:only-of-type {\n",
              "        vertical-align: middle;\n",
              "    }\n",
              "\n",
              "    .dataframe tbody tr th {\n",
              "        vertical-align: top;\n",
              "    }\n",
              "\n",
              "    .dataframe thead th {\n",
              "        text-align: right;\n",
              "    }\n",
              "</style>\n",
              "<table border=\"1\" class=\"dataframe\">\n",
              "  <thead>\n",
              "    <tr style=\"text-align: right;\">\n",
              "      <th></th>\n",
              "      <th>id</th>\n",
              "      <th>name</th>\n",
              "      <th>host_id</th>\n",
              "      <th>host_name</th>\n",
              "      <th>neighbourhood_group</th>\n",
              "      <th>neighbourhood</th>\n",
              "      <th>latitude</th>\n",
              "      <th>longitude</th>\n",
              "      <th>room_type</th>\n",
              "      <th>price</th>\n",
              "      <th>minimum_nights</th>\n",
              "      <th>number_of_reviews</th>\n",
              "      <th>last_review</th>\n",
              "      <th>reviews_per_month</th>\n",
              "      <th>calculated_host_listings_count</th>\n",
              "      <th>availability_365</th>\n",
              "    </tr>\n",
              "  </thead>\n",
              "  <tbody>\n",
              "    <tr>\n",
              "      <th>0</th>\n",
              "      <td>2539</td>\n",
              "      <td>Clean &amp; quiet apt home by the park</td>\n",
              "      <td>2787</td>\n",
              "      <td>John</td>\n",
              "      <td>Brooklyn</td>\n",
              "      <td>Kensington</td>\n",
              "      <td>40.64749</td>\n",
              "      <td>-73.97237</td>\n",
              "      <td>Private room</td>\n",
              "      <td>149</td>\n",
              "      <td>1</td>\n",
              "      <td>9</td>\n",
              "      <td>2018-10-19</td>\n",
              "      <td>0.21</td>\n",
              "      <td>6</td>\n",
              "      <td>365</td>\n",
              "    </tr>\n",
              "    <tr>\n",
              "      <th>1</th>\n",
              "      <td>2595</td>\n",
              "      <td>Skylit Midtown Castle</td>\n",
              "      <td>2845</td>\n",
              "      <td>Jennifer</td>\n",
              "      <td>Manhattan</td>\n",
              "      <td>Midtown</td>\n",
              "      <td>40.75362</td>\n",
              "      <td>-73.98377</td>\n",
              "      <td>Entire home/apt</td>\n",
              "      <td>225</td>\n",
              "      <td>1</td>\n",
              "      <td>45</td>\n",
              "      <td>2019-05-21</td>\n",
              "      <td>0.38</td>\n",
              "      <td>2</td>\n",
              "      <td>355</td>\n",
              "    </tr>\n",
              "    <tr>\n",
              "      <th>2</th>\n",
              "      <td>3647</td>\n",
              "      <td>THE VILLAGE OF HARLEM....NEW YORK !</td>\n",
              "      <td>4632</td>\n",
              "      <td>Elisabeth</td>\n",
              "      <td>Manhattan</td>\n",
              "      <td>Harlem</td>\n",
              "      <td>40.80902</td>\n",
              "      <td>-73.94190</td>\n",
              "      <td>Private room</td>\n",
              "      <td>150</td>\n",
              "      <td>3</td>\n",
              "      <td>0</td>\n",
              "      <td>NaN</td>\n",
              "      <td>NaN</td>\n",
              "      <td>1</td>\n",
              "      <td>365</td>\n",
              "    </tr>\n",
              "    <tr>\n",
              "      <th>3</th>\n",
              "      <td>3831</td>\n",
              "      <td>Cozy Entire Floor of Brownstone</td>\n",
              "      <td>4869</td>\n",
              "      <td>LisaRoxanne</td>\n",
              "      <td>Brooklyn</td>\n",
              "      <td>Clinton Hill</td>\n",
              "      <td>40.68514</td>\n",
              "      <td>-73.95976</td>\n",
              "      <td>Entire home/apt</td>\n",
              "      <td>89</td>\n",
              "      <td>1</td>\n",
              "      <td>270</td>\n",
              "      <td>2019-07-05</td>\n",
              "      <td>4.64</td>\n",
              "      <td>1</td>\n",
              "      <td>194</td>\n",
              "    </tr>\n",
              "    <tr>\n",
              "      <th>4</th>\n",
              "      <td>5022</td>\n",
              "      <td>Entire Apt: Spacious Studio/Loft by central park</td>\n",
              "      <td>7192</td>\n",
              "      <td>Laura</td>\n",
              "      <td>Manhattan</td>\n",
              "      <td>East Harlem</td>\n",
              "      <td>40.79851</td>\n",
              "      <td>-73.94399</td>\n",
              "      <td>Entire home/apt</td>\n",
              "      <td>80</td>\n",
              "      <td>10</td>\n",
              "      <td>9</td>\n",
              "      <td>2018-11-19</td>\n",
              "      <td>0.10</td>\n",
              "      <td>1</td>\n",
              "      <td>0</td>\n",
              "    </tr>\n",
              "  </tbody>\n",
              "</table>\n",
              "</div>"
            ],
            "text/plain": [
              "     id  ... availability_365\n",
              "0  2539  ...              365\n",
              "1  2595  ...              355\n",
              "2  3647  ...              365\n",
              "3  3831  ...              194\n",
              "4  5022  ...                0\n",
              "\n",
              "[5 rows x 16 columns]"
            ]
          },
          "metadata": {},
          "execution_count": 3
        }
      ]
    },
    {
      "cell_type": "code",
      "metadata": {
        "colab": {
          "base_uri": "https://localhost:8080/",
          "height": 305
        },
        "id": "rAAA2n0xNZ5N",
        "outputId": "0bcbf9a3-66f6-4257-ef50-1a02a04100f5"
      },
      "source": [
        "columns = [\n",
        "    'neighbourhood_group', 'room_type', 'latitude', 'longitude',\n",
        "    'minimum_nights', 'number_of_reviews','reviews_per_month',\n",
        "    'calculated_host_listings_count', 'availability_365',\n",
        "    'price'\n",
        "]\n",
        "df = df[columns]\n",
        "df.head()"
      ],
      "execution_count": 4,
      "outputs": [
        {
          "output_type": "execute_result",
          "data": {
            "text/html": [
              "<div>\n",
              "<style scoped>\n",
              "    .dataframe tbody tr th:only-of-type {\n",
              "        vertical-align: middle;\n",
              "    }\n",
              "\n",
              "    .dataframe tbody tr th {\n",
              "        vertical-align: top;\n",
              "    }\n",
              "\n",
              "    .dataframe thead th {\n",
              "        text-align: right;\n",
              "    }\n",
              "</style>\n",
              "<table border=\"1\" class=\"dataframe\">\n",
              "  <thead>\n",
              "    <tr style=\"text-align: right;\">\n",
              "      <th></th>\n",
              "      <th>neighbourhood_group</th>\n",
              "      <th>room_type</th>\n",
              "      <th>latitude</th>\n",
              "      <th>longitude</th>\n",
              "      <th>minimum_nights</th>\n",
              "      <th>number_of_reviews</th>\n",
              "      <th>reviews_per_month</th>\n",
              "      <th>calculated_host_listings_count</th>\n",
              "      <th>availability_365</th>\n",
              "      <th>price</th>\n",
              "    </tr>\n",
              "  </thead>\n",
              "  <tbody>\n",
              "    <tr>\n",
              "      <th>0</th>\n",
              "      <td>Brooklyn</td>\n",
              "      <td>Private room</td>\n",
              "      <td>40.64749</td>\n",
              "      <td>-73.97237</td>\n",
              "      <td>1</td>\n",
              "      <td>9</td>\n",
              "      <td>0.21</td>\n",
              "      <td>6</td>\n",
              "      <td>365</td>\n",
              "      <td>149</td>\n",
              "    </tr>\n",
              "    <tr>\n",
              "      <th>1</th>\n",
              "      <td>Manhattan</td>\n",
              "      <td>Entire home/apt</td>\n",
              "      <td>40.75362</td>\n",
              "      <td>-73.98377</td>\n",
              "      <td>1</td>\n",
              "      <td>45</td>\n",
              "      <td>0.38</td>\n",
              "      <td>2</td>\n",
              "      <td>355</td>\n",
              "      <td>225</td>\n",
              "    </tr>\n",
              "    <tr>\n",
              "      <th>2</th>\n",
              "      <td>Manhattan</td>\n",
              "      <td>Private room</td>\n",
              "      <td>40.80902</td>\n",
              "      <td>-73.94190</td>\n",
              "      <td>3</td>\n",
              "      <td>0</td>\n",
              "      <td>NaN</td>\n",
              "      <td>1</td>\n",
              "      <td>365</td>\n",
              "      <td>150</td>\n",
              "    </tr>\n",
              "    <tr>\n",
              "      <th>3</th>\n",
              "      <td>Brooklyn</td>\n",
              "      <td>Entire home/apt</td>\n",
              "      <td>40.68514</td>\n",
              "      <td>-73.95976</td>\n",
              "      <td>1</td>\n",
              "      <td>270</td>\n",
              "      <td>4.64</td>\n",
              "      <td>1</td>\n",
              "      <td>194</td>\n",
              "      <td>89</td>\n",
              "    </tr>\n",
              "    <tr>\n",
              "      <th>4</th>\n",
              "      <td>Manhattan</td>\n",
              "      <td>Entire home/apt</td>\n",
              "      <td>40.79851</td>\n",
              "      <td>-73.94399</td>\n",
              "      <td>10</td>\n",
              "      <td>9</td>\n",
              "      <td>0.10</td>\n",
              "      <td>1</td>\n",
              "      <td>0</td>\n",
              "      <td>80</td>\n",
              "    </tr>\n",
              "  </tbody>\n",
              "</table>\n",
              "</div>"
            ],
            "text/plain": [
              "  neighbourhood_group        room_type  ...  availability_365  price\n",
              "0            Brooklyn     Private room  ...               365    149\n",
              "1           Manhattan  Entire home/apt  ...               355    225\n",
              "2           Manhattan     Private room  ...               365    150\n",
              "3            Brooklyn  Entire home/apt  ...               194     89\n",
              "4           Manhattan  Entire home/apt  ...                 0     80\n",
              "\n",
              "[5 rows x 10 columns]"
            ]
          },
          "metadata": {},
          "execution_count": 4
        }
      ]
    },
    {
      "cell_type": "markdown",
      "metadata": {
        "id": "HsOx94coOCRz"
      },
      "source": [
        "Fill NAs with 0"
      ]
    },
    {
      "cell_type": "code",
      "metadata": {
        "colab": {
          "base_uri": "https://localhost:8080/"
        },
        "id": "BMNNKmr7Noo-",
        "outputId": "950c8b9b-4bee-4d8d-eda2-5886df406ff2"
      },
      "source": [
        "df.isnull().sum()"
      ],
      "execution_count": 5,
      "outputs": [
        {
          "output_type": "execute_result",
          "data": {
            "text/plain": [
              "neighbourhood_group                   0\n",
              "room_type                             0\n",
              "latitude                              0\n",
              "longitude                             0\n",
              "minimum_nights                        0\n",
              "number_of_reviews                     0\n",
              "reviews_per_month                 10052\n",
              "calculated_host_listings_count        0\n",
              "availability_365                      0\n",
              "price                                 0\n",
              "dtype: int64"
            ]
          },
          "metadata": {},
          "execution_count": 5
        }
      ]
    },
    {
      "cell_type": "code",
      "metadata": {
        "id": "eyb5OV3cOTqT"
      },
      "source": [
        "df['reviews_per_month'] = df.reviews_per_month.fillna(0)"
      ],
      "execution_count": 6,
      "outputs": []
    },
    {
      "cell_type": "code",
      "metadata": {
        "colab": {
          "base_uri": "https://localhost:8080/"
        },
        "id": "c40bA4W4OdCS",
        "outputId": "53d69b0e-ee4c-4e7e-eec0-007c9b8b1af6"
      },
      "source": [
        "df.isnull().sum()"
      ],
      "execution_count": 7,
      "outputs": [
        {
          "output_type": "execute_result",
          "data": {
            "text/plain": [
              "neighbourhood_group               0\n",
              "room_type                         0\n",
              "latitude                          0\n",
              "longitude                         0\n",
              "minimum_nights                    0\n",
              "number_of_reviews                 0\n",
              "reviews_per_month                 0\n",
              "calculated_host_listings_count    0\n",
              "availability_365                  0\n",
              "price                             0\n",
              "dtype: int64"
            ]
          },
          "metadata": {},
          "execution_count": 7
        }
      ]
    },
    {
      "cell_type": "markdown",
      "metadata": {
        "id": "TSINUfdxOiNO"
      },
      "source": [
        "Apply the log tranform to price"
      ]
    },
    {
      "cell_type": "code",
      "metadata": {
        "colab": {
          "base_uri": "https://localhost:8080/"
        },
        "id": "pkPmBk1QO4y2",
        "outputId": "4fc74dcd-759f-4079-afa2-81c6cf07ba3f"
      },
      "source": [
        "df.price.head()"
      ],
      "execution_count": 8,
      "outputs": [
        {
          "output_type": "execute_result",
          "data": {
            "text/plain": [
              "0    149\n",
              "1    225\n",
              "2    150\n",
              "3     89\n",
              "4     80\n",
              "Name: price, dtype: int64"
            ]
          },
          "metadata": {},
          "execution_count": 8
        }
      ]
    },
    {
      "cell_type": "code",
      "metadata": {
        "id": "0u-6N3lPOfek"
      },
      "source": [
        "df.price = np.log1p(df['price'])"
      ],
      "execution_count": 9,
      "outputs": []
    },
    {
      "cell_type": "code",
      "metadata": {
        "colab": {
          "base_uri": "https://localhost:8080/"
        },
        "id": "usLZ7KQpO8i9",
        "outputId": "341111f4-3c66-4f81-d2b2-37d8f23ccfe7"
      },
      "source": [
        "df.price.head()"
      ],
      "execution_count": 10,
      "outputs": [
        {
          "output_type": "execute_result",
          "data": {
            "text/plain": [
              "0    5.010635\n",
              "1    5.420535\n",
              "2    5.017280\n",
              "3    4.499810\n",
              "4    4.394449\n",
              "Name: price, dtype: float64"
            ]
          },
          "metadata": {},
          "execution_count": 10
        }
      ]
    },
    {
      "cell_type": "markdown",
      "metadata": {
        "id": "NwKk85hGPBEI"
      },
      "source": [
        "Do train/validation/test split with 60%/20%/20% distribution."
      ]
    },
    {
      "cell_type": "code",
      "metadata": {
        "id": "bItq0N7hO99a"
      },
      "source": [
        "from sklearn.model_selection import train_test_split\n",
        "df_full_train, df_test = train_test_split(df, random_state = 1, test_size = 0.20)\n",
        "df_train, df_val = train_test_split(df_full_train, test_size = 0.25, random_state = 1)"
      ],
      "execution_count": 11,
      "outputs": []
    },
    {
      "cell_type": "code",
      "metadata": {
        "colab": {
          "base_uri": "https://localhost:8080/"
        },
        "id": "0AZVGeMOPeYw",
        "outputId": "ed285ca8-9fa3-43fa-eea7-4f73876e69eb"
      },
      "source": [
        "print(len(df))\n",
        "print(len(df_train))\n",
        "print(len(df_val))\n",
        "print(len(df_test))"
      ],
      "execution_count": 12,
      "outputs": [
        {
          "output_type": "stream",
          "name": "stdout",
          "text": [
            "48895\n",
            "29337\n",
            "9779\n",
            "9779\n"
          ]
        }
      ]
    },
    {
      "cell_type": "code",
      "metadata": {
        "id": "HHEvY0qbPucP"
      },
      "source": [
        "y_train = df_train.price.values\n",
        "y_test = df_test.price.values\n",
        "y_val = df_val.price.values"
      ],
      "execution_count": 13,
      "outputs": []
    },
    {
      "cell_type": "code",
      "metadata": {
        "id": "5wX5k07AQGmT"
      },
      "source": [
        "del df_train['price']\n",
        "del df_test['price']\n",
        "del df_val['price']"
      ],
      "execution_count": 14,
      "outputs": []
    },
    {
      "cell_type": "code",
      "metadata": {
        "colab": {
          "base_uri": "https://localhost:8080/",
          "height": 305
        },
        "id": "mPLY4nO_QTRW",
        "outputId": "c78c2ec2-5152-4338-8f1d-0bb5edadacbe"
      },
      "source": [
        "df_train.head()"
      ],
      "execution_count": 15,
      "outputs": [
        {
          "output_type": "execute_result",
          "data": {
            "text/html": [
              "<div>\n",
              "<style scoped>\n",
              "    .dataframe tbody tr th:only-of-type {\n",
              "        vertical-align: middle;\n",
              "    }\n",
              "\n",
              "    .dataframe tbody tr th {\n",
              "        vertical-align: top;\n",
              "    }\n",
              "\n",
              "    .dataframe thead th {\n",
              "        text-align: right;\n",
              "    }\n",
              "</style>\n",
              "<table border=\"1\" class=\"dataframe\">\n",
              "  <thead>\n",
              "    <tr style=\"text-align: right;\">\n",
              "      <th></th>\n",
              "      <th>neighbourhood_group</th>\n",
              "      <th>room_type</th>\n",
              "      <th>latitude</th>\n",
              "      <th>longitude</th>\n",
              "      <th>minimum_nights</th>\n",
              "      <th>number_of_reviews</th>\n",
              "      <th>reviews_per_month</th>\n",
              "      <th>calculated_host_listings_count</th>\n",
              "      <th>availability_365</th>\n",
              "    </tr>\n",
              "  </thead>\n",
              "  <tbody>\n",
              "    <tr>\n",
              "      <th>385</th>\n",
              "      <td>Queens</td>\n",
              "      <td>Entire home/apt</td>\n",
              "      <td>40.76434</td>\n",
              "      <td>-73.92132</td>\n",
              "      <td>4</td>\n",
              "      <td>30</td>\n",
              "      <td>0.32</td>\n",
              "      <td>1</td>\n",
              "      <td>363</td>\n",
              "    </tr>\n",
              "    <tr>\n",
              "      <th>33147</th>\n",
              "      <td>Brooklyn</td>\n",
              "      <td>Private room</td>\n",
              "      <td>40.73442</td>\n",
              "      <td>-73.95854</td>\n",
              "      <td>5</td>\n",
              "      <td>2</td>\n",
              "      <td>0.16</td>\n",
              "      <td>1</td>\n",
              "      <td>0</td>\n",
              "    </tr>\n",
              "    <tr>\n",
              "      <th>33881</th>\n",
              "      <td>Brooklyn</td>\n",
              "      <td>Entire home/apt</td>\n",
              "      <td>40.66359</td>\n",
              "      <td>-73.99487</td>\n",
              "      <td>1</td>\n",
              "      <td>33</td>\n",
              "      <td>2.75</td>\n",
              "      <td>5</td>\n",
              "      <td>113</td>\n",
              "    </tr>\n",
              "    <tr>\n",
              "      <th>37208</th>\n",
              "      <td>Brooklyn</td>\n",
              "      <td>Private room</td>\n",
              "      <td>40.63766</td>\n",
              "      <td>-74.02626</td>\n",
              "      <td>3</td>\n",
              "      <td>1</td>\n",
              "      <td>0.12</td>\n",
              "      <td>2</td>\n",
              "      <td>362</td>\n",
              "    </tr>\n",
              "    <tr>\n",
              "      <th>7485</th>\n",
              "      <td>Brooklyn</td>\n",
              "      <td>Private room</td>\n",
              "      <td>40.65118</td>\n",
              "      <td>-74.00842</td>\n",
              "      <td>2</td>\n",
              "      <td>0</td>\n",
              "      <td>0.00</td>\n",
              "      <td>2</td>\n",
              "      <td>365</td>\n",
              "    </tr>\n",
              "  </tbody>\n",
              "</table>\n",
              "</div>"
            ],
            "text/plain": [
              "      neighbourhood_group  ... availability_365\n",
              "385                Queens  ...              363\n",
              "33147            Brooklyn  ...                0\n",
              "33881            Brooklyn  ...              113\n",
              "37208            Brooklyn  ...              362\n",
              "7485             Brooklyn  ...              365\n",
              "\n",
              "[5 rows x 9 columns]"
            ]
          },
          "metadata": {},
          "execution_count": 15
        }
      ]
    },
    {
      "cell_type": "code",
      "metadata": {
        "colab": {
          "base_uri": "https://localhost:8080/"
        },
        "id": "5FDg3rtSQU1X",
        "outputId": "0d424f0c-5fb9-47d6-b27a-b42019b83aaf"
      },
      "source": [
        "y_train[:5]"
      ],
      "execution_count": 16,
      "outputs": [
        {
          "output_type": "execute_result",
          "data": {
            "text/plain": [
              "array([4.7095302 , 4.26267988, 6.13339804, 4.60517019, 7.60140233])"
            ]
          },
          "metadata": {},
          "execution_count": 16
        }
      ]
    },
    {
      "cell_type": "markdown",
      "metadata": {
        "id": "3iXlH98pQygQ"
      },
      "source": [
        "# Question 1\n",
        "\n",
        "\n",
        "```\n",
        "Let's train a decision tree regressor to predict the price variable.\n",
        "\n",
        "Train a model with max_depth=1\n",
        "\n",
        "\n",
        "```\n",
        "\n"
      ]
    },
    {
      "cell_type": "code",
      "metadata": {
        "id": "VL7voLNtQXwA"
      },
      "source": [
        "from sklearn.tree import DecisionTreeRegressor\n",
        "from sklearn.feature_extraction import DictVectorizer\n",
        "from sklearn.metrics import roc_auc_score\n",
        "from sklearn.tree import export_text"
      ],
      "execution_count": 20,
      "outputs": []
    },
    {
      "cell_type": "code",
      "metadata": {
        "id": "wSH4AGyrRpGZ"
      },
      "source": [
        "train_dicts = df_train.to_dict(orient='records')"
      ],
      "execution_count": 21,
      "outputs": []
    },
    {
      "cell_type": "code",
      "metadata": {
        "id": "gclY6w_JRzbO"
      },
      "source": [
        "dv = DictVectorizer(sparse=False)\n",
        "X_train = dv.fit_transform(train_dicts)\n"
      ],
      "execution_count": 22,
      "outputs": []
    },
    {
      "cell_type": "code",
      "metadata": {
        "id": "M7NgniLRSGjL"
      },
      "source": [
        "dt = DecisionTreeRegressor(max_depth=1)"
      ],
      "execution_count": 23,
      "outputs": []
    },
    {
      "cell_type": "code",
      "metadata": {
        "colab": {
          "base_uri": "https://localhost:8080/"
        },
        "id": "8o8CoyJSShzd",
        "outputId": "925caa46-057a-4d07-d4d6-2504d3b36f92"
      },
      "source": [
        "dt.fit(X_train, y_train)"
      ],
      "execution_count": 24,
      "outputs": [
        {
          "output_type": "execute_result",
          "data": {
            "text/plain": [
              "DecisionTreeRegressor(ccp_alpha=0.0, criterion='mse', max_depth=1,\n",
              "                      max_features=None, max_leaf_nodes=None,\n",
              "                      min_impurity_decrease=0.0, min_impurity_split=None,\n",
              "                      min_samples_leaf=1, min_samples_split=2,\n",
              "                      min_weight_fraction_leaf=0.0, presort='deprecated',\n",
              "                      random_state=None, splitter='best')"
            ]
          },
          "metadata": {},
          "execution_count": 24
        }
      ]
    },
    {
      "cell_type": "code",
      "metadata": {
        "colab": {
          "base_uri": "https://localhost:8080/"
        },
        "id": "HAh3AE-ISmvq",
        "outputId": "02abd1c7-6802-4097-f3eb-c2079dba2b2e"
      },
      "source": [
        "print(export_text(dt, feature_names=dv.get_feature_names()))"
      ],
      "execution_count": 25,
      "outputs": [
        {
          "output_type": "stream",
          "name": "stdout",
          "text": [
            "|--- room_type=Entire home/apt <= 0.50\n",
            "|   |--- value: [4.29]\n",
            "|--- room_type=Entire home/apt >  0.50\n",
            "|   |--- value: [5.15]\n",
            "\n"
          ]
        }
      ]
    },
    {
      "cell_type": "markdown",
      "metadata": {
        "id": "36zMgGytS4U6"
      },
      "source": [
        "\n",
        "\n",
        "```\n",
        "Which feature is used for splitting the data?\n",
        "\n",
        "room_type\n",
        "neighbourhood_group\n",
        "number_of_reviews\n",
        "reviews_per_month\n",
        "\n",
        "\n",
        "Answer : room_type\n",
        "```\n",
        "\n"
      ]
    },
    {
      "cell_type": "markdown",
      "metadata": {
        "id": "VRa7EDImS_IQ"
      },
      "source": [
        "\n",
        "# Question 2\n",
        "```\n",
        "\n",
        "\n",
        "Train a random forest model with these parameters:\n",
        "\n",
        "n_estimators=10\n",
        "random_state=1\n",
        "n_jobs=-1 (optional - to make training faster)\n",
        "```\n",
        "\n"
      ]
    },
    {
      "cell_type": "code",
      "metadata": {
        "id": "JSqE4C3FSvvF"
      },
      "source": [
        "val_dicts = df_val.to_dict(orient='records')\n",
        "X_val = dv.transform(val_dicts)"
      ],
      "execution_count": 28,
      "outputs": []
    },
    {
      "cell_type": "code",
      "metadata": {
        "id": "r2ofuEbZTxO3"
      },
      "source": [
        "from sklearn.ensemble import RandomForestRegressor"
      ],
      "execution_count": 29,
      "outputs": []
    },
    {
      "cell_type": "code",
      "metadata": {
        "id": "oDlpSYZXUEmJ"
      },
      "source": [
        "dt2 = RandomForestRegressor(n_estimators=10,\n",
        "                            random_state=1,\n",
        "                            n_jobs=-1)"
      ],
      "execution_count": 30,
      "outputs": []
    },
    {
      "cell_type": "code",
      "metadata": {
        "colab": {
          "base_uri": "https://localhost:8080/"
        },
        "id": "z1dYB1sZUOau",
        "outputId": "06d9f777-2059-445e-c78f-589db1b4ec50"
      },
      "source": [
        "dt2.fit(X_train, y_train)"
      ],
      "execution_count": 31,
      "outputs": [
        {
          "output_type": "execute_result",
          "data": {
            "text/plain": [
              "RandomForestRegressor(bootstrap=True, ccp_alpha=0.0, criterion='mse',\n",
              "                      max_depth=None, max_features='auto', max_leaf_nodes=None,\n",
              "                      max_samples=None, min_impurity_decrease=0.0,\n",
              "                      min_impurity_split=None, min_samples_leaf=1,\n",
              "                      min_samples_split=2, min_weight_fraction_leaf=0.0,\n",
              "                      n_estimators=10, n_jobs=-1, oob_score=False,\n",
              "                      random_state=1, verbose=0, warm_start=False)"
            ]
          },
          "metadata": {},
          "execution_count": 31
        }
      ]
    },
    {
      "cell_type": "code",
      "metadata": {
        "id": "eJfHKoZYUW8K"
      },
      "source": [
        "from sklearn.metrics import mean_squared_error\n",
        "import math"
      ],
      "execution_count": 38,
      "outputs": []
    },
    {
      "cell_type": "code",
      "metadata": {
        "colab": {
          "base_uri": "https://localhost:8080/"
        },
        "id": "RCMQ0PP0UdpL",
        "outputId": "a7160804-bc1a-4d80-e52e-0f4b67be18b1"
      },
      "source": [
        "pred_val = dt2.predict(X_val)\n",
        "rmse = math.sqrt(mean_squared_error(y_val, pred_val))\n",
        "print(round(rmse, 3))"
      ],
      "execution_count": 33,
      "outputs": [
        {
          "output_type": "stream",
          "name": "stdout",
          "text": [
            "0.461\n"
          ]
        }
      ]
    },
    {
      "cell_type": "markdown",
      "metadata": {
        "id": "VUpWD8PRU0Qf"
      },
      "source": [
        "\n",
        "\n",
        "```\n",
        "\n",
        "What's the RMSE of this model on validation?\n",
        "\n",
        "0.059\n",
        "0.259\n",
        "0.459\n",
        "0.659\n",
        "\n",
        "Answer : 0.459\n",
        "```\n",
        "\n"
      ]
    },
    {
      "cell_type": "markdown",
      "metadata": {
        "id": "nIUIiVpSWEAb"
      },
      "source": [
        "# Question 3\n",
        "\n",
        "\n",
        "```\n",
        "Now let's experiment with the n_estimators parameter\n",
        "\n",
        "Try different values of this parameter from 10 to 200 with step 10\n",
        "Set random_state to 1\n",
        "Evaluate the model on the validation dataset\n",
        "```\n",
        "\n"
      ]
    },
    {
      "cell_type": "code",
      "metadata": {
        "colab": {
          "base_uri": "https://localhost:8080/"
        },
        "id": "kABEYcX0UyWa",
        "outputId": "3440992f-2e38-4b33-a240-206791fb8196"
      },
      "source": [
        "scores = []\n",
        "for n in range(10, 201, 10):\n",
        "  dt3= RandomForestRegressor(n_estimators = n, random_state = 1, n_jobs = -1)\n",
        "  dt3.fit(X_train, y_train)\n",
        "  pred = dt3.predict(X_val)\n",
        "  rmse = math.sqrt(mean_squared_error(y_val,pred))\n",
        "  scores.append((n, rmse))\n",
        "  print(\"For n_estimator -> \", n, \" RMSE is -> \", rmse)"
      ],
      "execution_count": 41,
      "outputs": [
        {
          "output_type": "stream",
          "name": "stdout",
          "text": [
            "For n_estimator ->  10  RMSE is ->  0.460888788095762\n",
            "For n_estimator ->  20  RMSE is ->  0.44744055425901735\n",
            "For n_estimator ->  30  RMSE is ->  0.44440015830200136\n",
            "For n_estimator ->  40  RMSE is ->  0.44281711871165336\n",
            "For n_estimator ->  50  RMSE is ->  0.44176815762157207\n",
            "For n_estimator ->  60  RMSE is ->  0.44125165338475053\n",
            "For n_estimator ->  70  RMSE is ->  0.44064455072014125\n",
            "For n_estimator ->  80  RMSE is ->  0.440740830263047\n",
            "For n_estimator ->  90  RMSE is ->  0.4402749020311618\n",
            "For n_estimator ->  100  RMSE is ->  0.4397631903425602\n",
            "For n_estimator ->  110  RMSE is ->  0.4393128261208466\n",
            "For n_estimator ->  120  RMSE is ->  0.43912990819267467\n",
            "For n_estimator ->  130  RMSE is ->  0.4392796575512702\n",
            "For n_estimator ->  140  RMSE is ->  0.4391514983746916\n",
            "For n_estimator ->  150  RMSE is ->  0.43902892484355854\n",
            "For n_estimator ->  160  RMSE is ->  0.4388423640549406\n",
            "For n_estimator ->  170  RMSE is ->  0.4387460509023033\n",
            "For n_estimator ->  180  RMSE is ->  0.4388528948224223\n",
            "For n_estimator ->  190  RMSE is ->  0.43879074353852315\n",
            "For n_estimator ->  200  RMSE is ->  0.4387871286025359\n"
          ]
        }
      ]
    },
    {
      "cell_type": "code",
      "metadata": {
        "id": "wRbSjBjFaVPY"
      },
      "source": [
        ""
      ],
      "execution_count": null,
      "outputs": []
    },
    {
      "cell_type": "code",
      "metadata": {
        "colab": {
          "base_uri": "https://localhost:8080/",
          "height": 282
        },
        "id": "AdGJcjT2WW9X",
        "outputId": "abd88322-40b4-4b68-de3a-faee748cae2c"
      },
      "source": [
        "df_scores = pd.DataFrame(scores, columns=['n_estimators', 'rmse'])\n",
        "\n",
        "plt.plot(df_scores.rmse, df_scores.n_estimators)"
      ],
      "execution_count": 43,
      "outputs": [
        {
          "output_type": "execute_result",
          "data": {
            "text/plain": [
              "[<matplotlib.lines.Line2D at 0x7f9daa681a10>]"
            ]
          },
          "metadata": {},
          "execution_count": 43
        },
        {
          "output_type": "display_data",
          "data": {
            "image/png": "[encoded data removed]",
            "text/plain": [
              "<Figure size 432x288 with 1 Axes>"
            ]
          },
          "metadata": {
            "needs_background": "light"
          }
        }
      ]
    },
    {
      "cell_type": "markdown",
      "metadata": {
        "id": "0Ch_62sJZv2k"
      },
      "source": [
        "\n",
        "\n",
        "```\n",
        "\n",
        "After which value of n_estimators does RMSE stop improving?\n",
        "\n",
        "10\n",
        "50\n",
        "70\n",
        "120\n",
        "\n",
        "Answer : 120\n",
        "```\n",
        "\n"
      ]
    },
    {
      "cell_type": "markdown",
      "metadata": {
        "id": "4xTE1YS6avCy"
      },
      "source": [
        "# Question 4\n",
        "\n",
        "\n",
        "```\n",
        "Let's select the best max_depth:\n",
        "\n",
        "Try different values of max_depth: [10, 15, 20, 25]\n",
        "For each of these values, try different values of n_estimators from 10 till 200 (with step 10)\n",
        "Fix the random seed: random_state=1\n",
        "\n",
        "```\n",
        "\n"
      ]
    },
    {
      "cell_type": "code",
      "metadata": {
        "id": "LDmFg_wrYWP0"
      },
      "source": [
        "scores4 = []\n",
        "\n",
        "for d in [10, 15, 20, 25]:\n",
        "    for n in range(10, 201, 10):\n",
        "      rfr = RandomForestRegressor(n_estimators=n,\n",
        "                                    max_depth=d,\n",
        "                                    random_state=1,\n",
        "                                    n_jobs = -1)\n",
        "      rfr.fit(X_train, y_train)\n",
        "      prediction = rfr.predict(X_val)\n",
        "      rmse = math.sqrt(mean_squared_error(y_val,prediction))\n",
        "      scores4.append((d, n, rmse))\n"
      ],
      "execution_count": 44,
      "outputs": []
    },
    {
      "cell_type": "code",
      "metadata": {
        "id": "LD4amwqKcQ2p"
      },
      "source": [
        "q4Scores = pd.DataFrame(scores4, columns = ['max_depth', 'n_estimators', 'rmse'])\n",
        "\n"
      ],
      "execution_count": 47,
      "outputs": []
    },
    {
      "cell_type": "code",
      "metadata": {
        "colab": {
          "base_uri": "https://localhost:8080/"
        },
        "id": "XSmzhpj6ggaD",
        "outputId": "147c9103-3399-4e9a-8e66-84f36a4a9ad4"
      },
      "source": [
        "q4ScoresPivot = q4Scores.pivot_table(index = ['n_estimators'], columns = ['max_depth'], values = ['rmse'])\n",
        "print(q4ScoresPivot.round(3))"
      ],
      "execution_count": 50,
      "outputs": [
        {
          "output_type": "stream",
          "name": "stdout",
          "text": [
            "               rmse                     \n",
            "max_depth        10     15     20     25\n",
            "n_estimators                            \n",
            "10            0.445  0.450  0.459  0.461\n",
            "20            0.442  0.441  0.446  0.448\n",
            "30            0.441  0.440  0.444  0.445\n",
            "40            0.441  0.439  0.442  0.443\n",
            "50            0.441  0.438  0.441  0.442\n",
            "60            0.441  0.438  0.440  0.441\n",
            "70            0.441  0.437  0.440  0.441\n",
            "80            0.441  0.437  0.440  0.441\n",
            "90            0.440  0.437  0.439  0.440\n",
            "100           0.440  0.436  0.439  0.440\n",
            "110           0.440  0.436  0.438  0.439\n",
            "120           0.440  0.436  0.438  0.439\n",
            "130           0.440  0.436  0.438  0.439\n",
            "140           0.440  0.436  0.438  0.439\n",
            "150           0.440  0.436  0.438  0.439\n",
            "160           0.440  0.436  0.438  0.439\n",
            "170           0.440  0.436  0.438  0.439\n",
            "180           0.440  0.436  0.438  0.439\n",
            "190           0.440  0.436  0.438  0.439\n",
            "200           0.440  0.436  0.438  0.439\n"
          ]
        }
      ]
    },
    {
      "cell_type": "code",
      "metadata": {
        "colab": {
          "base_uri": "https://localhost:8080/",
          "height": 282
        },
        "id": "zr5DpwKZgGeC",
        "outputId": "fc15f1d7-a191-4c66-f0a0-02ba0c6ef57c"
      },
      "source": [
        "for d in [10, 15, 20, 25]:\n",
        "    df_subset = q4Scores[q4Scores.max_depth == d]\n",
        "    \n",
        "    plt.plot(df_subset.n_estimators, df_subset.rmse,\n",
        "             label='max_depth=%d' % d)\n",
        "\n",
        "plt.legend()"
      ],
      "execution_count": 49,
      "outputs": [
        {
          "output_type": "execute_result",
          "data": {
            "text/plain": [
              "<matplotlib.legend.Legend at 0x7f9dab125fd0>"
            ]
          },
          "metadata": {},
          "execution_count": 49
        },
        {
          "output_type": "display_data",
          "data": {
            "image/png": "[encoded data removed]",
            "text/plain": [
              "<Figure size 432x288 with 1 Axes>"
            ]
          },
          "metadata": {
            "needs_background": "light"
          }
        }
      ]
    },
    {
      "cell_type": "markdown",
      "metadata": {
        "id": "8esQCIPhhVo2"
      },
      "source": [
        "\n",
        "\n",
        "```\n",
        "What's the best max_depth:\n",
        "\n",
        "10\n",
        "15\n",
        "20\n",
        "25\n",
        "\n",
        "Answer : 15\n",
        "```\n",
        "\n"
      ]
    },
    {
      "cell_type": "markdown",
      "metadata": {
        "id": "tv8whWdNh5Ql"
      },
      "source": [
        "# Question 5\n",
        "\n",
        "\n",
        "```\n",
        "We can extract feature importance information from tree-based models.\n",
        "\n",
        "At each step of the decision tree learning algorith, it finds the best split. When doint it, we can calculate \"gain\" - the reduction in impurity before and after the split. This gain is quite useful in understanding what are the imporatant features for tree-based models.\n",
        "\n",
        "In Scikit-Learn, tree-based models contain this information in the feature_importances_ field.\n",
        "\n",
        "For this homework question, we'll find the most important feature:\n",
        "\n",
        "Train the model with these parametes:\n",
        "n_estimators=10,\n",
        "max_depth=20,\n",
        "random_state=1,\n",
        "n_jobs=-1 (optional)\n",
        "Get the feature importance information from this model\n",
        "```\n",
        "\n"
      ]
    },
    {
      "cell_type": "code",
      "metadata": {
        "id": "xL3hsHmegdt1"
      },
      "source": [
        "dt5 = RandomForestRegressor(n_estimators = 10, max_depth = 20, random_state = 1, n_jobs = -1)\n",
        "dt5.fit(X_train, y_train)\n",
        "important = dt5.feature_importances_\n",
        "df_important = pd.DataFrame(important, index = dv.feature_names_)"
      ],
      "execution_count": 39,
      "outputs": []
    },
    {
      "cell_type": "code",
      "metadata": {
        "colab": {
          "base_uri": "https://localhost:8080/"
        },
        "id": "eseN5p1wj49z",
        "outputId": "3a42b131-b947-4e83-a944-74843c367587"
      },
      "source": [
        "print(df_important)"
      ],
      "execution_count": 40,
      "outputs": [
        {
          "output_type": "stream",
          "name": "stdout",
          "text": [
            "                                          0\n",
            "availability_365                   0.076516\n",
            "calculated_host_listings_count     0.030906\n",
            "latitude                           0.152054\n",
            "longitude                          0.153219\n",
            "minimum_nights                     0.053645\n",
            "neighbourhood_group=Bronx          0.000284\n",
            "neighbourhood_group=Brooklyn       0.001166\n",
            "neighbourhood_group=Manhattan      0.034017\n",
            "neighbourhood_group=Queens         0.001153\n",
            "neighbourhood_group=Staten Island  0.000118\n",
            "number_of_reviews                  0.043525\n",
            "reviews_per_month                  0.052438\n",
            "room_type=Entire home/apt          0.391897\n",
            "room_type=Private room             0.004521\n",
            "room_type=Shared room              0.004541\n"
          ]
        }
      ]
    },
    {
      "cell_type": "markdown",
      "metadata": {
        "id": "RNolnlepkE8l"
      },
      "source": [
        "\n",
        "\n",
        "```\n",
        "\n",
        "What's the most important feature?\n",
        "\n",
        "neighbourhood_group=Manhattan\n",
        "room_type=Entire home/apt\n",
        "longitude\n",
        "latitude\n",
        "\n",
        "Answer : room_type=Entire home/apt \n",
        "with importance of :  0.391897\n",
        "```\n",
        "\n"
      ]
    },
    {
      "cell_type": "markdown",
      "metadata": {
        "id": "O2adpZhalQK3"
      },
      "source": [
        "# Question 6\n",
        "\n",
        "\n",
        "```\n",
        "Now let's train an XGBoost model! For this question, we'll tune the eta parameter\n",
        "\n",
        "Install XGBoost\n",
        "Create DMatrix for train and validation\n",
        "Create a watchlist\n",
        "Train a model with these parameters for 100 rounds:\n",
        "xgb_params = {\n",
        "    'eta': 0.3, \n",
        "    'max_depth': 6,\n",
        "    'min_child_weight': 1,\n",
        "\n",
        "    'objective': 'reg:squarederror',\n",
        "    'nthread': 8,\n",
        "\n",
        "    'seed': 1,\n",
        "    'verbosity': 1,\n",
        "}\n",
        "```\n",
        "\n"
      ]
    },
    {
      "cell_type": "code",
      "metadata": {
        "colab": {
          "base_uri": "https://localhost:8080/"
        },
        "id": "3WjRQUOxj9-X",
        "outputId": "5861c404-c970-4c39-f602-c10caa4c2f49"
      },
      "source": [
        "!pip install xgboost"
      ],
      "execution_count": 63,
      "outputs": [
        {
          "output_type": "stream",
          "name": "stdout",
          "text": [
            "Requirement already satisfied: xgboost in /usr/local/lib/python3.7/dist-packages (0.90)\n",
            "Requirement already satisfied: scipy in /usr/local/lib/python3.7/dist-packages (from xgboost) (1.4.1)\n",
            "Requirement already satisfied: numpy in /usr/local/lib/python3.7/dist-packages (from xgboost) (1.19.5)\n"
          ]
        }
      ]
    },
    {
      "cell_type": "code",
      "metadata": {
        "id": "O-Da8O8KlcGa"
      },
      "source": [
        "\n",
        "import xgboost as xgb"
      ],
      "execution_count": 64,
      "outputs": []
    },
    {
      "cell_type": "code",
      "metadata": {
        "id": "uBFggE33leMk"
      },
      "source": [
        "features = dv.get_feature_names()\n",
        "dtrain = xgb.DMatrix(X_train, label=y_train, feature_names=features)\n",
        "dval = xgb.DMatrix(X_val, label=y_val, feature_names=features)\n",
        "watchlist = [(dtrain, 'train'), (dval, 'val')]"
      ],
      "execution_count": 65,
      "outputs": []
    },
    {
      "cell_type": "code",
      "metadata": {
        "id": "Bh5rxIN5lsSS"
      },
      "source": [
        "xgb_params = {\n",
        "    'eta': 0.3, \n",
        "    'max_depth': 6,\n",
        "    'min_child_weight': 1,\n",
        "\n",
        "    'objective': 'reg:squarederror',\n",
        "    'nthread': 8,\n",
        "\n",
        "    'seed': 1,\n",
        "    'verbosity': 1,\n",
        "}"
      ],
      "execution_count": 66,
      "outputs": []
    },
    {
      "cell_type": "code",
      "metadata": {
        "id": "nXswqEMMH_bH"
      },
      "source": [
        "def parse_xgb_output(output):\n",
        "    results = []\n",
        "\n",
        "    for line in output.stdout.strip().split('\\n'):\n",
        "        it_line, train_line, val_line = line.split('\\t')\n",
        "\n",
        "        it = int(it_line.strip('[]'))\n",
        "        train = float(train_line.split(':')[1])\n",
        "        val = float(val_line.split(':')[1])\n",
        "\n",
        "        results.append((it, train, val))\n",
        "    \n",
        "    columns = ['num_iter', 'train_rmse', 'val_rmse']\n",
        "    df_results = pd.DataFrame(results, columns=columns)\n",
        "    return df_results"
      ],
      "execution_count": 67,
      "outputs": []
    },
    {
      "cell_type": "code",
      "metadata": {
        "id": "gUjzgWXkGuPu"
      },
      "source": [
        "scores = {}\n",
        "\n"
      ],
      "execution_count": 68,
      "outputs": []
    },
    {
      "cell_type": "code",
      "metadata": {
        "id": "HQr8w-bqInfT"
      },
      "source": [
        "%%capture output\n",
        "model = xgb.train(xgb_params, dtrain, num_boost_round=100,\n",
        "                  verbose_eval=5,\n",
        "                  evals=watchlist)"
      ],
      "execution_count": 69,
      "outputs": []
    },
    {
      "cell_type": "code",
      "metadata": {
        "colab": {
          "base_uri": "https://localhost:8080/",
          "height": 35
        },
        "id": "g0BZfJTpHPEK",
        "outputId": "4d1525a8-f012-4d7e-8295-3f8bab4d232e"
      },
      "source": [
        "key = 'eta=%s' % (xgb_params['eta'])\n",
        "scores[key] = parse_xgb_output(output)\n",
        "key"
      ],
      "execution_count": 70,
      "outputs": [
        {
          "output_type": "execute_result",
          "data": {
            "application/vnd.google.colaboratory.intrinsic+json": {
              "type": "string"
            },
            "text/plain": [
              "'eta=0.3'"
            ]
          },
          "metadata": {},
          "execution_count": 70
        }
      ]
    },
    {
      "cell_type": "code",
      "metadata": {
        "id": "mXGq84S6HRkR"
      },
      "source": [
        "xgb_params[\"eta\"] = 0.1"
      ],
      "execution_count": 71,
      "outputs": []
    },
    {
      "cell_type": "code",
      "metadata": {
        "id": "qcrq6EyGI4sz"
      },
      "source": [
        "\n",
        "%%capture output\n",
        "model = xgb.train(xgb_params, dtrain, num_boost_round=100,\n",
        "                  verbose_eval=5,\n",
        "                  evals=watchlist)"
      ],
      "execution_count": 72,
      "outputs": []
    },
    {
      "cell_type": "code",
      "metadata": {
        "id": "Mol-P3ACI6qZ",
        "outputId": "0a9281d1-3afd-4cbd-d7a2-c0430cbc4373",
        "colab": {
          "base_uri": "https://localhost:8080/",
          "height": 35
        }
      },
      "source": [
        "key = f'eta={xgb_params[\"eta\"]}'\n",
        "scores[key] = parse_xgb_output(output)\n",
        "key"
      ],
      "execution_count": 73,
      "outputs": [
        {
          "output_type": "execute_result",
          "data": {
            "application/vnd.google.colaboratory.intrinsic+json": {
              "type": "string"
            },
            "text/plain": [
              "'eta=0.1'"
            ]
          },
          "metadata": {},
          "execution_count": 73
        }
      ]
    },
    {
      "cell_type": "code",
      "metadata": {
        "id": "4a8BWyb8JCVi"
      },
      "source": [
        "xgb_params[\"eta\"] = 0.01"
      ],
      "execution_count": 74,
      "outputs": []
    },
    {
      "cell_type": "code",
      "metadata": {
        "id": "20Fb7TpiJNjl"
      },
      "source": [
        "%%capture output\n",
        "model = xgb.train(xgb_params, dtrain, num_boost_round=100,\n",
        "                  verbose_eval=5,\n",
        "                  evals=watchlist)"
      ],
      "execution_count": 75,
      "outputs": []
    },
    {
      "cell_type": "code",
      "metadata": {
        "id": "VJIfnJDbJH_z",
        "outputId": "82b2237c-d0f6-4df9-c91e-99e101bdc732",
        "colab": {
          "base_uri": "https://localhost:8080/",
          "height": 35
        }
      },
      "source": [
        "key = f'eta={xgb_params[\"eta\"]}'\n",
        "scores[key] = parse_xgb_output(output)\n",
        "key"
      ],
      "execution_count": 76,
      "outputs": [
        {
          "output_type": "execute_result",
          "data": {
            "application/vnd.google.colaboratory.intrinsic+json": {
              "type": "string"
            },
            "text/plain": [
              "'eta=0.01'"
            ]
          },
          "metadata": {},
          "execution_count": 76
        }
      ]
    },
    {
      "cell_type": "code",
      "metadata": {
        "id": "2KRARRxZKB1D"
      },
      "source": [
        "df_score = parse_xgb_output(output)"
      ],
      "execution_count": 77,
      "outputs": []
    },
    {
      "cell_type": "code",
      "metadata": {
        "id": "-PTjUKbFJJWI",
        "outputId": "0ba8c0fc-9f7b-4fbf-809d-8bc0c2f6232e",
        "colab": {
          "base_uri": "https://localhost:8080/",
          "height": 309
        }
      },
      "source": [
        "for eta, df_score in scores.items():\n",
        "    plt.plot(df_score.num_iter, df_score.val_rmse, label=eta)\n",
        "\n",
        "    plt.xlabel('n_rounds')\n",
        "    plt.ylabel('RMSE')\n",
        "    plt.legend()\n",
        "    plt.title('Full graph')\n",
        "\n",
        "plt.suptitle(f'XGBoost [eta] hypertuning');"
      ],
      "execution_count": 78,
      "outputs": [
        {
          "output_type": "display_data",
          "data": {
            "image/png": "[encoded data removed]",
            "text/plain": [
              "<Figure size 432x288 with 1 Axes>"
            ]
          },
          "metadata": {
            "needs_background": "light"
          }
        }
      ]
    },
    {
      "cell_type": "markdown",
      "metadata": {
        "id": "DxftZo6kLRbc"
      },
      "source": [
        "\n",
        "\n",
        "```\n",
        "Which eta leads to the best RMSE score on the validation dataset?\n",
        "\n",
        "0.3\n",
        "0.1\n",
        "0.01\n",
        "\n",
        "ANswer : 0.1\n",
        "\n",
        "```\n",
        "\n"
      ]
    },
    {
      "cell_type": "code",
      "metadata": {
        "id": "0R7eU98NJbOB"
      },
      "source": [
        ""
      ],
      "execution_count": null,
      "outputs": []
    }
  ]
}