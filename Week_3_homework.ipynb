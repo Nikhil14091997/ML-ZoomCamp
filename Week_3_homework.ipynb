{
  "nbformat": 4,
  "nbformat_minor": 0,
  "metadata": {
    "colab": {
      "name": "Week_3.ipynb",
      "provenance": [],
      "toc_visible": true,
      "authorship_tag": "ABX9TyPTbbjWL67BRhUHL8b5J1oR",
      "include_colab_link": true
    },
    "kernelspec": {
      "name": "python3",
      "display_name": "Python 3"
    },
    "language_info": {
      "name": "python"
    }
  },
  "cells": [
    {
      "cell_type": "markdown",
      "metadata": {
        "id": "view-in-github",
        "colab_type": "text"
      },
      "source": [
        "<a href=\"https://colab.research.google.com/github/Nikhil14091997/ML-ZoomCamp/blob/main/Week_3_homework.ipynb\" target=\"_parent\"><img src=\"https://colab.research.google.com/assets/colab-badge.svg\" alt=\"Open In Colab\"/></a>"
      ]
    },
    {
      "cell_type": "markdown",
      "metadata": {
        "id": "KWVPiYnsEmkm"
      },
      "source": [
        "# Question 1\n",
        "\n",
        "\n",
        "```\n",
        "What is the most frequent observation (mode) for the column 'neighbourhood_group'?\n",
        "\n",
        "1. Split the data\n",
        "2. Split your data in train/val/test sets, with 60%/20%/20% distribution.\n",
        "3. Use Scikit-Learn for that (the train_test_split function) and set the seed to 42.\n",
        "4. Make sure that the target value ('price') is not in your dataframe.\n",
        "```\n",
        "\n"
      ]
    },
    {
      "cell_type": "code",
      "metadata": {
        "id": "cWVTNCtqEBnG"
      },
      "source": [
        "import pandas as pd\n",
        "import numpy as np\n",
        "import matplotlib.pyplot as plt\n",
        "import seaborn as sns"
      ],
      "execution_count": null,
      "outputs": []
    },
    {
      "cell_type": "code",
      "metadata": {
        "id": "rJ3-ebhmFMFE"
      },
      "source": [
        "data = 'https://raw.githubusercontent.com/alexeygrigorev/datasets/master/AB_NYC_2019.csv'\n"
      ],
      "execution_count": null,
      "outputs": []
    },
    {
      "cell_type": "code",
      "metadata": {
        "colab": {
          "base_uri": "https://localhost:8080/"
        },
        "id": "BfmmRu2jFSc-",
        "outputId": "4978ba44-df35-4d3b-b3f3-8447bd8451b3"
      },
      "source": [
        "!wget $data -O New_York_City_Airbnb_Open_Data.csv"
      ],
      "execution_count": null,
      "outputs": [
        {
          "output_type": "stream",
          "name": "stdout",
          "text": [
            "--2021-09-26 10:09:51--  https://raw.githubusercontent.com/alexeygrigorev/datasets/master/AB_NYC_2019.csv\n",
            "Resolving raw.githubusercontent.com (raw.githubusercontent.com)... 185.199.111.133, 185.199.109.133, 185.199.108.133, ...\n",
            "Connecting to raw.githubusercontent.com (raw.githubusercontent.com)|185.199.111.133|:443... connected.\n",
            "HTTP request sent, awaiting response... 200 OK\n",
            "Length: 7077973 (6.8M) [text/plain]\n",
            "Saving to: ‘New_York_City_Airbnb_Open_Data.csv’\n",
            "\n",
            "\r          New_York_   0%[                    ]       0  --.-KB/s               \rNew_York_City_Airbn 100%[===================>]   6.75M  --.-KB/s    in 0.06s   \n",
            "\n",
            "2021-09-26 10:09:51 (122 MB/s) - ‘New_York_City_Airbnb_Open_Data.csv’ saved [7077973/7077973]\n",
            "\n"
          ]
        }
      ]
    },
    {
      "cell_type": "code",
      "metadata": {
        "id": "5VO3DtLnFaQ1"
      },
      "source": [
        "df = pd.read_csv('data-week-3-homework.csv')"
      ],
      "execution_count": null,
      "outputs": []
    },
    {
      "cell_type": "code",
      "metadata": {
        "colab": {
          "base_uri": "https://localhost:8080/"
        },
        "id": "SDH-6iRaFjJ6",
        "outputId": "a46873ed-03d1-4c4b-b5f4-61f96b6d384b"
      },
      "source": [
        "len(df)"
      ],
      "execution_count": null,
      "outputs": [
        {
          "output_type": "execute_result",
          "data": {
            "text/plain": [
              "48895"
            ]
          },
          "metadata": {},
          "execution_count": 44
        }
      ]
    },
    {
      "cell_type": "code",
      "metadata": {
        "colab": {
          "base_uri": "https://localhost:8080/",
          "height": 568
        },
        "id": "Sy6r8LgAlfCg",
        "outputId": "26b4e4dd-a59f-41db-9d89-ecd9dfbf18ec"
      },
      "source": [
        "df.head().T"
      ],
      "execution_count": null,
      "outputs": [
        {
          "output_type": "execute_result",
          "data": {
            "text/html": [
              "<div>\n",
              "<style scoped>\n",
              "    .dataframe tbody tr th:only-of-type {\n",
              "        vertical-align: middle;\n",
              "    }\n",
              "\n",
              "    .dataframe tbody tr th {\n",
              "        vertical-align: top;\n",
              "    }\n",
              "\n",
              "    .dataframe thead th {\n",
              "        text-align: right;\n",
              "    }\n",
              "</style>\n",
              "<table border=\"1\" class=\"dataframe\">\n",
              "  <thead>\n",
              "    <tr style=\"text-align: right;\">\n",
              "      <th></th>\n",
              "      <th>0</th>\n",
              "      <th>1</th>\n",
              "      <th>2</th>\n",
              "      <th>3</th>\n",
              "      <th>4</th>\n",
              "    </tr>\n",
              "  </thead>\n",
              "  <tbody>\n",
              "    <tr>\n",
              "      <th>id</th>\n",
              "      <td>2539</td>\n",
              "      <td>2595</td>\n",
              "      <td>3647</td>\n",
              "      <td>3831</td>\n",
              "      <td>5022</td>\n",
              "    </tr>\n",
              "    <tr>\n",
              "      <th>name</th>\n",
              "      <td>Clean &amp; quiet apt home by the park</td>\n",
              "      <td>Skylit Midtown Castle</td>\n",
              "      <td>THE VILLAGE OF HARLEM....NEW YORK !</td>\n",
              "      <td>Cozy Entire Floor of Brownstone</td>\n",
              "      <td>Entire Apt: Spacious Studio/Loft by central park</td>\n",
              "    </tr>\n",
              "    <tr>\n",
              "      <th>host_id</th>\n",
              "      <td>2787</td>\n",
              "      <td>2845</td>\n",
              "      <td>4632</td>\n",
              "      <td>4869</td>\n",
              "      <td>7192</td>\n",
              "    </tr>\n",
              "    <tr>\n",
              "      <th>host_name</th>\n",
              "      <td>John</td>\n",
              "      <td>Jennifer</td>\n",
              "      <td>Elisabeth</td>\n",
              "      <td>LisaRoxanne</td>\n",
              "      <td>Laura</td>\n",
              "    </tr>\n",
              "    <tr>\n",
              "      <th>neighbourhood_group</th>\n",
              "      <td>Brooklyn</td>\n",
              "      <td>Manhattan</td>\n",
              "      <td>Manhattan</td>\n",
              "      <td>Brooklyn</td>\n",
              "      <td>Manhattan</td>\n",
              "    </tr>\n",
              "    <tr>\n",
              "      <th>neighbourhood</th>\n",
              "      <td>Kensington</td>\n",
              "      <td>Midtown</td>\n",
              "      <td>Harlem</td>\n",
              "      <td>Clinton Hill</td>\n",
              "      <td>East Harlem</td>\n",
              "    </tr>\n",
              "    <tr>\n",
              "      <th>latitude</th>\n",
              "      <td>40.6475</td>\n",
              "      <td>40.7536</td>\n",
              "      <td>40.809</td>\n",
              "      <td>40.6851</td>\n",
              "      <td>40.7985</td>\n",
              "    </tr>\n",
              "    <tr>\n",
              "      <th>longitude</th>\n",
              "      <td>-73.9724</td>\n",
              "      <td>-73.9838</td>\n",
              "      <td>-73.9419</td>\n",
              "      <td>-73.9598</td>\n",
              "      <td>-73.944</td>\n",
              "    </tr>\n",
              "    <tr>\n",
              "      <th>room_type</th>\n",
              "      <td>Private room</td>\n",
              "      <td>Entire home/apt</td>\n",
              "      <td>Private room</td>\n",
              "      <td>Entire home/apt</td>\n",
              "      <td>Entire home/apt</td>\n",
              "    </tr>\n",
              "    <tr>\n",
              "      <th>price</th>\n",
              "      <td>149</td>\n",
              "      <td>225</td>\n",
              "      <td>150</td>\n",
              "      <td>89</td>\n",
              "      <td>80</td>\n",
              "    </tr>\n",
              "    <tr>\n",
              "      <th>minimum_nights</th>\n",
              "      <td>1</td>\n",
              "      <td>1</td>\n",
              "      <td>3</td>\n",
              "      <td>1</td>\n",
              "      <td>10</td>\n",
              "    </tr>\n",
              "    <tr>\n",
              "      <th>number_of_reviews</th>\n",
              "      <td>9</td>\n",
              "      <td>45</td>\n",
              "      <td>0</td>\n",
              "      <td>270</td>\n",
              "      <td>9</td>\n",
              "    </tr>\n",
              "    <tr>\n",
              "      <th>last_review</th>\n",
              "      <td>2018-10-19</td>\n",
              "      <td>2019-05-21</td>\n",
              "      <td>NaN</td>\n",
              "      <td>2019-07-05</td>\n",
              "      <td>2018-11-19</td>\n",
              "    </tr>\n",
              "    <tr>\n",
              "      <th>reviews_per_month</th>\n",
              "      <td>0.21</td>\n",
              "      <td>0.38</td>\n",
              "      <td>NaN</td>\n",
              "      <td>4.64</td>\n",
              "      <td>0.1</td>\n",
              "    </tr>\n",
              "    <tr>\n",
              "      <th>calculated_host_listings_count</th>\n",
              "      <td>6</td>\n",
              "      <td>2</td>\n",
              "      <td>1</td>\n",
              "      <td>1</td>\n",
              "      <td>1</td>\n",
              "    </tr>\n",
              "    <tr>\n",
              "      <th>availability_365</th>\n",
              "      <td>365</td>\n",
              "      <td>355</td>\n",
              "      <td>365</td>\n",
              "      <td>194</td>\n",
              "      <td>0</td>\n",
              "    </tr>\n",
              "  </tbody>\n",
              "</table>\n",
              "</div>"
            ],
            "text/plain": [
              "                                                                 0  ...                                                 4\n",
              "id                                                            2539  ...                                              5022\n",
              "name                            Clean & quiet apt home by the park  ...  Entire Apt: Spacious Studio/Loft by central park\n",
              "host_id                                                       2787  ...                                              7192\n",
              "host_name                                                     John  ...                                             Laura\n",
              "neighbourhood_group                                       Brooklyn  ...                                         Manhattan\n",
              "neighbourhood                                           Kensington  ...                                       East Harlem\n",
              "latitude                                                   40.6475  ...                                           40.7985\n",
              "longitude                                                 -73.9724  ...                                           -73.944\n",
              "room_type                                             Private room  ...                                   Entire home/apt\n",
              "price                                                          149  ...                                                80\n",
              "minimum_nights                                                   1  ...                                                10\n",
              "number_of_reviews                                                9  ...                                                 9\n",
              "last_review                                             2018-10-19  ...                                        2018-11-19\n",
              "reviews_per_month                                             0.21  ...                                               0.1\n",
              "calculated_host_listings_count                                   6  ...                                                 1\n",
              "availability_365                                               365  ...                                                 0\n",
              "\n",
              "[16 rows x 5 columns]"
            ]
          },
          "metadata": {},
          "execution_count": 45
        }
      ]
    },
    {
      "cell_type": "code",
      "metadata": {
        "id": "U7Ve94d6lkUS"
      },
      "source": [
        "features = ['neighbourhood_group','room_type','latitude','longitude','price','minimum_nights','number_of_reviews','reviews_per_month','calculated_host_listings_count','availability_365']\n",
        "df = df[features]"
      ],
      "execution_count": null,
      "outputs": []
    },
    {
      "cell_type": "code",
      "metadata": {
        "colab": {
          "base_uri": "https://localhost:8080/"
        },
        "id": "tbCM_byTlnLE",
        "outputId": "e9371fcc-5c67-47e2-82ae-b660ea6f1af8"
      },
      "source": [
        "# Searching features with null values\n",
        "df.isnull().sum()"
      ],
      "execution_count": null,
      "outputs": [
        {
          "output_type": "execute_result",
          "data": {
            "text/plain": [
              "neighbourhood_group                   0\n",
              "room_type                             0\n",
              "latitude                              0\n",
              "longitude                             0\n",
              "price                                 0\n",
              "minimum_nights                        0\n",
              "number_of_reviews                     0\n",
              "reviews_per_month                 10052\n",
              "calculated_host_listings_count        0\n",
              "availability_365                      0\n",
              "dtype: int64"
            ]
          },
          "metadata": {},
          "execution_count": 47
        }
      ]
    },
    {
      "cell_type": "code",
      "metadata": {
        "id": "khyh_QlGqFWH"
      },
      "source": [
        "df['reviews_per_month'] = df.reviews_per_month.fillna(0)"
      ],
      "execution_count": null,
      "outputs": []
    },
    {
      "cell_type": "code",
      "metadata": {
        "id": "p4YLMxrwFk2B"
      },
      "source": [
        "from sklearn.model_selection import train_test_split\n",
        "df_full_train, df_test = train_test_split(df, test_size=0.2, random_state=42)\n",
        "df_train, df_val = train_test_split(df_full_train, test_size = 0.25, random_state = 42)"
      ],
      "execution_count": null,
      "outputs": []
    },
    {
      "cell_type": "code",
      "metadata": {
        "colab": {
          "base_uri": "https://localhost:8080/"
        },
        "id": "a90aKFT8HGRR",
        "outputId": "e5145014-e817-4535-968c-d650ba70c3d8"
      },
      "source": [
        "len(df)"
      ],
      "execution_count": null,
      "outputs": [
        {
          "output_type": "execute_result",
          "data": {
            "text/plain": [
              "48895"
            ]
          },
          "metadata": {},
          "execution_count": 87
        }
      ]
    },
    {
      "cell_type": "code",
      "metadata": {
        "colab": {
          "base_uri": "https://localhost:8080/"
        },
        "id": "LzG03-voHHc_",
        "outputId": "e9c6d485-72a5-4021-997d-efa5a5bfa1aa"
      },
      "source": [
        "len(df_train), len(df_val), len(df_test)"
      ],
      "execution_count": null,
      "outputs": [
        {
          "output_type": "execute_result",
          "data": {
            "text/plain": [
              "(29337, 9779, 9779)"
            ]
          },
          "metadata": {},
          "execution_count": 88
        }
      ]
    },
    {
      "cell_type": "code",
      "metadata": {
        "colab": {
          "base_uri": "https://localhost:8080/"
        },
        "id": "ZSpIfonFHNpU",
        "outputId": "fa824c70-6f94-4bf2-9edc-34b60ef2634d"
      },
      "source": [
        "0.60*48895"
      ],
      "execution_count": null,
      "outputs": [
        {
          "output_type": "execute_result",
          "data": {
            "text/plain": [
              "29337.0"
            ]
          },
          "metadata": {},
          "execution_count": 89
        }
      ]
    },
    {
      "cell_type": "code",
      "metadata": {
        "colab": {
          "base_uri": "https://localhost:8080/"
        },
        "id": "Cn07N3I4HRkO",
        "outputId": "a2bce9eb-dc94-4c74-eee3-08071914d9a5"
      },
      "source": [
        "0.20 * 48895"
      ],
      "execution_count": null,
      "outputs": [
        {
          "output_type": "execute_result",
          "data": {
            "text/plain": [
              "9779.0"
            ]
          },
          "metadata": {},
          "execution_count": 90
        }
      ]
    },
    {
      "cell_type": "code",
      "metadata": {
        "id": "nBwDYUu8HV1D"
      },
      "source": [
        "df_train = df_train.reset_index(drop=True)\n",
        "df_val = df_val.reset_index(drop=True)\n",
        "df_test = df_test.reset_index(drop=True)"
      ],
      "execution_count": null,
      "outputs": []
    },
    {
      "cell_type": "code",
      "metadata": {
        "id": "24xCBf9oHfoo"
      },
      "source": [
        "y_train = df_train.price.values\n",
        "y_val = df_val.price.values\n",
        "y_test = df_test.price.values\n",
        "\n",
        "del df_train['price']\n",
        "del df_val['price']\n",
        "del df_test['price']"
      ],
      "execution_count": null,
      "outputs": []
    },
    {
      "cell_type": "code",
      "metadata": {
        "colab": {
          "base_uri": "https://localhost:8080/"
        },
        "id": "LR5v0Pcll9iw",
        "outputId": "fb4853a9-0714-415f-e0fa-6db03f416537"
      },
      "source": [
        "# Verify the lenght of partitions \n",
        "len(df_train), len(df_val), len(df_test)"
      ],
      "execution_count": null,
      "outputs": [
        {
          "output_type": "execute_result",
          "data": {
            "text/plain": [
              "(29337, 9779, 9779)"
            ]
          },
          "metadata": {},
          "execution_count": 93
        }
      ]
    },
    {
      "cell_type": "code",
      "metadata": {
        "colab": {
          "base_uri": "https://localhost:8080/"
        },
        "id": "y6_sqefEHrYE",
        "outputId": "3c6e722d-3ee6-48f7-8dfa-62c878429e2c"
      },
      "source": [
        "y_train"
      ],
      "execution_count": null,
      "outputs": [
        {
          "output_type": "execute_result",
          "data": {
            "text/plain": [
              "array([ 99,  57,  70, ..., 299,  65,  92])"
            ]
          },
          "metadata": {},
          "execution_count": 94
        }
      ]
    },
    {
      "cell_type": "code",
      "metadata": {
        "colab": {
          "base_uri": "https://localhost:8080/",
          "height": 617
        },
        "id": "P45aAaM1HudA",
        "outputId": "eeb8835a-c710-45ef-b318-5aa508c8ce1f"
      },
      "source": [
        "df_train"
      ],
      "execution_count": null,
      "outputs": [
        {
          "output_type": "execute_result",
          "data": {
            "text/html": [
              "<div>\n",
              "<style scoped>\n",
              "    .dataframe tbody tr th:only-of-type {\n",
              "        vertical-align: middle;\n",
              "    }\n",
              "\n",
              "    .dataframe tbody tr th {\n",
              "        vertical-align: top;\n",
              "    }\n",
              "\n",
              "    .dataframe thead th {\n",
              "        text-align: right;\n",
              "    }\n",
              "</style>\n",
              "<table border=\"1\" class=\"dataframe\">\n",
              "  <thead>\n",
              "    <tr style=\"text-align: right;\">\n",
              "      <th></th>\n",
              "      <th>neighbourhood_group</th>\n",
              "      <th>room_type</th>\n",
              "      <th>latitude</th>\n",
              "      <th>longitude</th>\n",
              "      <th>minimum_nights</th>\n",
              "      <th>number_of_reviews</th>\n",
              "      <th>reviews_per_month</th>\n",
              "      <th>calculated_host_listings_count</th>\n",
              "      <th>availability_365</th>\n",
              "    </tr>\n",
              "  </thead>\n",
              "  <tbody>\n",
              "    <tr>\n",
              "      <th>0</th>\n",
              "      <td>Brooklyn</td>\n",
              "      <td>Entire home/apt</td>\n",
              "      <td>40.72760</td>\n",
              "      <td>-73.94495</td>\n",
              "      <td>3</td>\n",
              "      <td>29</td>\n",
              "      <td>0.70</td>\n",
              "      <td>13</td>\n",
              "      <td>50</td>\n",
              "    </tr>\n",
              "    <tr>\n",
              "      <th>1</th>\n",
              "      <td>Manhattan</td>\n",
              "      <td>Private room</td>\n",
              "      <td>40.70847</td>\n",
              "      <td>-74.00498</td>\n",
              "      <td>1</td>\n",
              "      <td>0</td>\n",
              "      <td>0.00</td>\n",
              "      <td>1</td>\n",
              "      <td>7</td>\n",
              "    </tr>\n",
              "    <tr>\n",
              "      <th>2</th>\n",
              "      <td>Bronx</td>\n",
              "      <td>Entire home/apt</td>\n",
              "      <td>40.83149</td>\n",
              "      <td>-73.92766</td>\n",
              "      <td>40</td>\n",
              "      <td>0</td>\n",
              "      <td>0.00</td>\n",
              "      <td>1</td>\n",
              "      <td>0</td>\n",
              "    </tr>\n",
              "    <tr>\n",
              "      <th>3</th>\n",
              "      <td>Brooklyn</td>\n",
              "      <td>Entire home/apt</td>\n",
              "      <td>40.66448</td>\n",
              "      <td>-73.99407</td>\n",
              "      <td>2</td>\n",
              "      <td>3</td>\n",
              "      <td>0.08</td>\n",
              "      <td>1</td>\n",
              "      <td>0</td>\n",
              "    </tr>\n",
              "    <tr>\n",
              "      <th>4</th>\n",
              "      <td>Manhattan</td>\n",
              "      <td>Private room</td>\n",
              "      <td>40.74118</td>\n",
              "      <td>-74.00012</td>\n",
              "      <td>1</td>\n",
              "      <td>48</td>\n",
              "      <td>1.80</td>\n",
              "      <td>2</td>\n",
              "      <td>67</td>\n",
              "    </tr>\n",
              "    <tr>\n",
              "      <th>...</th>\n",
              "      <td>...</td>\n",
              "      <td>...</td>\n",
              "      <td>...</td>\n",
              "      <td>...</td>\n",
              "      <td>...</td>\n",
              "      <td>...</td>\n",
              "      <td>...</td>\n",
              "      <td>...</td>\n",
              "      <td>...</td>\n",
              "    </tr>\n",
              "    <tr>\n",
              "      <th>29332</th>\n",
              "      <td>Brooklyn</td>\n",
              "      <td>Private room</td>\n",
              "      <td>40.71748</td>\n",
              "      <td>-73.95685</td>\n",
              "      <td>6</td>\n",
              "      <td>5</td>\n",
              "      <td>0.13</td>\n",
              "      <td>1</td>\n",
              "      <td>0</td>\n",
              "    </tr>\n",
              "    <tr>\n",
              "      <th>29333</th>\n",
              "      <td>Brooklyn</td>\n",
              "      <td>Private room</td>\n",
              "      <td>40.66397</td>\n",
              "      <td>-73.98538</td>\n",
              "      <td>1</td>\n",
              "      <td>7</td>\n",
              "      <td>0.17</td>\n",
              "      <td>2</td>\n",
              "      <td>0</td>\n",
              "    </tr>\n",
              "    <tr>\n",
              "      <th>29334</th>\n",
              "      <td>Manhattan</td>\n",
              "      <td>Private room</td>\n",
              "      <td>40.79994</td>\n",
              "      <td>-73.97001</td>\n",
              "      <td>1</td>\n",
              "      <td>1</td>\n",
              "      <td>0.64</td>\n",
              "      <td>1</td>\n",
              "      <td>88</td>\n",
              "    </tr>\n",
              "    <tr>\n",
              "      <th>29335</th>\n",
              "      <td>Brooklyn</td>\n",
              "      <td>Private room</td>\n",
              "      <td>40.69585</td>\n",
              "      <td>-73.96344</td>\n",
              "      <td>60</td>\n",
              "      <td>0</td>\n",
              "      <td>0.00</td>\n",
              "      <td>1</td>\n",
              "      <td>0</td>\n",
              "    </tr>\n",
              "    <tr>\n",
              "      <th>29336</th>\n",
              "      <td>Brooklyn</td>\n",
              "      <td>Entire home/apt</td>\n",
              "      <td>40.64438</td>\n",
              "      <td>-73.95484</td>\n",
              "      <td>7</td>\n",
              "      <td>15</td>\n",
              "      <td>0.49</td>\n",
              "      <td>2</td>\n",
              "      <td>281</td>\n",
              "    </tr>\n",
              "  </tbody>\n",
              "</table>\n",
              "<p>29337 rows × 9 columns</p>\n",
              "</div>"
            ],
            "text/plain": [
              "      neighbourhood_group  ... availability_365\n",
              "0                Brooklyn  ...               50\n",
              "1               Manhattan  ...                7\n",
              "2                   Bronx  ...                0\n",
              "3                Brooklyn  ...                0\n",
              "4               Manhattan  ...               67\n",
              "...                   ...  ...              ...\n",
              "29332            Brooklyn  ...                0\n",
              "29333            Brooklyn  ...                0\n",
              "29334           Manhattan  ...               88\n",
              "29335            Brooklyn  ...                0\n",
              "29336            Brooklyn  ...              281\n",
              "\n",
              "[29337 rows x 9 columns]"
            ]
          },
          "metadata": {},
          "execution_count": 95
        }
      ]
    },
    {
      "cell_type": "code",
      "metadata": {
        "id": "7gtkuTUiHwwQ"
      },
      "source": [
        "df_full_train = df_full_train.reset_index(drop=True)"
      ],
      "execution_count": null,
      "outputs": []
    },
    {
      "cell_type": "code",
      "metadata": {
        "colab": {
          "base_uri": "https://localhost:8080/"
        },
        "id": "khEOnjAAH0eI",
        "outputId": "8ba4a850-9b8b-4b16-99d7-63620735ba29"
      },
      "source": [
        "# getting the missing values from the data \n",
        "df_full_train.isnull().sum()"
      ],
      "execution_count": null,
      "outputs": [
        {
          "output_type": "execute_result",
          "data": {
            "text/plain": [
              "neighbourhood_group               0\n",
              "room_type                         0\n",
              "latitude                          0\n",
              "longitude                         0\n",
              "price                             0\n",
              "minimum_nights                    0\n",
              "number_of_reviews                 0\n",
              "reviews_per_month                 0\n",
              "calculated_host_listings_count    0\n",
              "availability_365                  0\n",
              "dtype: int64"
            ]
          },
          "metadata": {},
          "execution_count": 97
        }
      ]
    },
    {
      "cell_type": "code",
      "metadata": {
        "id": "-MYJMQcXIsGb"
      },
      "source": [
        "from IPython.display import display"
      ],
      "execution_count": null,
      "outputs": []
    },
    {
      "cell_type": "code",
      "metadata": {
        "colab": {
          "base_uri": "https://localhost:8080/"
        },
        "id": "x_axHki5H2P-",
        "outputId": "d5fbe3e9-556a-45bf-c9d5-0f1de85c4b46"
      },
      "source": [
        "# What is the most frequent observation (mode) for the column 'neighbourhood_group'?\n",
        "df_full_train.neighbourhood_group.value_counts(normalize=False)\n"
      ],
      "execution_count": null,
      "outputs": [
        {
          "output_type": "execute_result",
          "data": {
            "text/plain": [
              "Manhattan        17380\n",
              "Brooklyn         16096\n",
              "Queens            4482\n",
              "Bronx              864\n",
              "Staten Island      294\n",
              "Name: neighbourhood_group, dtype: int64"
            ]
          },
          "metadata": {},
          "execution_count": 99
        }
      ]
    },
    {
      "cell_type": "code",
      "metadata": {
        "colab": {
          "base_uri": "https://localhost:8080/"
        },
        "id": "MkUIuDo-IKDs",
        "outputId": "97b5bfc9-f267-4680-fc56-da3233dc1363"
      },
      "source": [
        "df.neighbourhood_group.mode()"
      ],
      "execution_count": null,
      "outputs": [
        {
          "output_type": "execute_result",
          "data": {
            "text/plain": [
              "0    Manhattan\n",
              "dtype: object"
            ]
          },
          "metadata": {},
          "execution_count": 100
        }
      ]
    },
    {
      "cell_type": "markdown",
      "metadata": {
        "id": "s7DRhRJFK6id"
      },
      "source": [
        "QUestion 1 : Manhattan"
      ]
    },
    {
      "cell_type": "markdown",
      "metadata": {
        "id": "3PW12f_GK8pV"
      },
      "source": [
        "# Question 2\n",
        "\n",
        "\n",
        "*   Create the correlation matrix for the numerical features of your train dataset.\n",
        "    *   In a correlation matrix, you compute the correlation coefficient between every pair of features in the dataset.\n",
        "\n",
        "\n",
        "*   What are the two features that have the biggest correlation in this dataset?\n",
        "**Make price binary**\n",
        "\n",
        "*   We need to turn the price variable from numeric into binary.\n",
        "*   Let's create a variable above_average which is 1 if the price is above (or equal to) 152.\n",
        "\n",
        "\n",
        "\n",
        "\n",
        "\n"
      ]
    },
    {
      "cell_type": "code",
      "metadata": {
        "colab": {
          "base_uri": "https://localhost:8080/"
        },
        "id": "i4OjktVoKy3I",
        "outputId": "71bd81a9-b93e-4e32-b412-f537ffee5057"
      },
      "source": [
        "df.dtypes"
      ],
      "execution_count": null,
      "outputs": [
        {
          "output_type": "execute_result",
          "data": {
            "text/plain": [
              "neighbourhood_group                object\n",
              "room_type                          object\n",
              "latitude                          float64\n",
              "longitude                         float64\n",
              "price                               int64\n",
              "minimum_nights                      int64\n",
              "number_of_reviews                   int64\n",
              "reviews_per_month                 float64\n",
              "calculated_host_listings_count      int64\n",
              "availability_365                    int64\n",
              "dtype: object"
            ]
          },
          "metadata": {},
          "execution_count": 101
        }
      ]
    },
    {
      "cell_type": "code",
      "metadata": {
        "id": "Q5mnCZ2DMQCV"
      },
      "source": [
        "categorical = [\"neighbourhood_group\", \"room_type\"]\n",
        "numerical = ['latitude','longitude', 'minimum_nights','number_of_reviews','reviews_per_month','calculated_host_listings_count','availability_365']"
      ],
      "execution_count": null,
      "outputs": []
    },
    {
      "cell_type": "code",
      "metadata": {
        "colab": {
          "base_uri": "https://localhost:8080/"
        },
        "id": "KQxvVzJPNIKq",
        "outputId": "96d715fe-fd27-4fad-b5b7-6a1dfc21d709"
      },
      "source": [
        "categorical"
      ],
      "execution_count": null,
      "outputs": [
        {
          "output_type": "execute_result",
          "data": {
            "text/plain": [
              "['neighbourhood_group', 'room_type']"
            ]
          },
          "metadata": {},
          "execution_count": 103
        }
      ]
    },
    {
      "cell_type": "code",
      "metadata": {
        "colab": {
          "base_uri": "https://localhost:8080/",
          "height": 187
        },
        "id": "F_iEY5mpNLaD",
        "outputId": "3ebbef70-58e0-457e-fc3a-aa01f096cc10"
      },
      "source": [
        "# Create the correlation matrix for the numerical features of your train dataset\n",
        "corr = df_train.corr()\n",
        "corr.style.background_gradient(cmap='coolwarm').set_precision(2)"
      ],
      "execution_count": null,
      "outputs": [
        {
          "output_type": "execute_result",
          "data": {
            "text/html": [
              "<style  type=\"text/css\" >\n",
              "#T_d8f2a14a_1eb4_11ec_b755_0242ac1c0002row0_col0,#T_d8f2a14a_1eb4_11ec_b755_0242ac1c0002row1_col1,#T_d8f2a14a_1eb4_11ec_b755_0242ac1c0002row2_col2,#T_d8f2a14a_1eb4_11ec_b755_0242ac1c0002row3_col3,#T_d8f2a14a_1eb4_11ec_b755_0242ac1c0002row4_col4,#T_d8f2a14a_1eb4_11ec_b755_0242ac1c0002row5_col5,#T_d8f2a14a_1eb4_11ec_b755_0242ac1c0002row6_col6{\n",
              "            background-color:  #b40426;\n",
              "            color:  #f1f1f1;\n",
              "        }#T_d8f2a14a_1eb4_11ec_b755_0242ac1c0002row0_col1,#T_d8f2a14a_1eb4_11ec_b755_0242ac1c0002row3_col6,#T_d8f2a14a_1eb4_11ec_b755_0242ac1c0002row6_col1{\n",
              "            background-color:  #7396f5;\n",
              "            color:  #000000;\n",
              "        }#T_d8f2a14a_1eb4_11ec_b755_0242ac1c0002row0_col2{\n",
              "            background-color:  #6384eb;\n",
              "            color:  #000000;\n",
              "        }#T_d8f2a14a_1eb4_11ec_b755_0242ac1c0002row0_col3,#T_d8f2a14a_1eb4_11ec_b755_0242ac1c0002row5_col4{\n",
              "            background-color:  #4e68d8;\n",
              "            color:  #000000;\n",
              "        }#T_d8f2a14a_1eb4_11ec_b755_0242ac1c0002row0_col4{\n",
              "            background-color:  #5977e3;\n",
              "            color:  #000000;\n",
              "        }#T_d8f2a14a_1eb4_11ec_b755_0242ac1c0002row0_col5,#T_d8f2a14a_1eb4_11ec_b755_0242ac1c0002row1_col3{\n",
              "            background-color:  #6180e9;\n",
              "            color:  #000000;\n",
              "        }#T_d8f2a14a_1eb4_11ec_b755_0242ac1c0002row0_col6,#T_d8f2a14a_1eb4_11ec_b755_0242ac1c0002row1_col5,#T_d8f2a14a_1eb4_11ec_b755_0242ac1c0002row2_col3,#T_d8f2a14a_1eb4_11ec_b755_0242ac1c0002row2_col4,#T_d8f2a14a_1eb4_11ec_b755_0242ac1c0002row3_col0,#T_d8f2a14a_1eb4_11ec_b755_0242ac1c0002row4_col0,#T_d8f2a14a_1eb4_11ec_b755_0242ac1c0002row4_col2,#T_d8f2a14a_1eb4_11ec_b755_0242ac1c0002row5_col1,#T_d8f2a14a_1eb4_11ec_b755_0242ac1c0002row5_col3,#T_d8f2a14a_1eb4_11ec_b755_0242ac1c0002row6_col0{\n",
              "            background-color:  #3b4cc0;\n",
              "            color:  #f1f1f1;\n",
              "        }#T_d8f2a14a_1eb4_11ec_b755_0242ac1c0002row1_col0,#T_d8f2a14a_1eb4_11ec_b755_0242ac1c0002row1_col6{\n",
              "            background-color:  #5572df;\n",
              "            color:  #000000;\n",
              "        }#T_d8f2a14a_1eb4_11ec_b755_0242ac1c0002row1_col2{\n",
              "            background-color:  #4a63d3;\n",
              "            color:  #f1f1f1;\n",
              "        }#T_d8f2a14a_1eb4_11ec_b755_0242ac1c0002row1_col4,#T_d8f2a14a_1eb4_11ec_b755_0242ac1c0002row5_col6{\n",
              "            background-color:  #85a8fc;\n",
              "            color:  #000000;\n",
              "        }#T_d8f2a14a_1eb4_11ec_b755_0242ac1c0002row2_col0{\n",
              "            background-color:  #445acc;\n",
              "            color:  #f1f1f1;\n",
              "        }#T_d8f2a14a_1eb4_11ec_b755_0242ac1c0002row2_col1{\n",
              "            background-color:  #4961d2;\n",
              "            color:  #f1f1f1;\n",
              "        }#T_d8f2a14a_1eb4_11ec_b755_0242ac1c0002row2_col5,#T_d8f2a14a_1eb4_11ec_b755_0242ac1c0002row5_col2{\n",
              "            background-color:  #80a3fa;\n",
              "            color:  #000000;\n",
              "        }#T_d8f2a14a_1eb4_11ec_b755_0242ac1c0002row2_col6{\n",
              "            background-color:  #6788ee;\n",
              "            color:  #000000;\n",
              "        }#T_d8f2a14a_1eb4_11ec_b755_0242ac1c0002row3_col1{\n",
              "            background-color:  #6b8df0;\n",
              "            color:  #000000;\n",
              "        }#T_d8f2a14a_1eb4_11ec_b755_0242ac1c0002row3_col2,#T_d8f2a14a_1eb4_11ec_b755_0242ac1c0002row3_col5{\n",
              "            background-color:  #465ecf;\n",
              "            color:  #f1f1f1;\n",
              "        }#T_d8f2a14a_1eb4_11ec_b755_0242ac1c0002row3_col4{\n",
              "            background-color:  #f5c1a9;\n",
              "            color:  #000000;\n",
              "        }#T_d8f2a14a_1eb4_11ec_b755_0242ac1c0002row4_col1{\n",
              "            background-color:  #84a7fc;\n",
              "            color:  #000000;\n",
              "        }#T_d8f2a14a_1eb4_11ec_b755_0242ac1c0002row4_col3{\n",
              "            background-color:  #f4c6af;\n",
              "            color:  #000000;\n",
              "        }#T_d8f2a14a_1eb4_11ec_b755_0242ac1c0002row4_col5{\n",
              "            background-color:  #4c66d6;\n",
              "            color:  #000000;\n",
              "        }#T_d8f2a14a_1eb4_11ec_b755_0242ac1c0002row4_col6{\n",
              "            background-color:  #7093f3;\n",
              "            color:  #000000;\n",
              "        }#T_d8f2a14a_1eb4_11ec_b755_0242ac1c0002row5_col0{\n",
              "            background-color:  #4257c9;\n",
              "            color:  #f1f1f1;\n",
              "        }#T_d8f2a14a_1eb4_11ec_b755_0242ac1c0002row6_col2,#T_d8f2a14a_1eb4_11ec_b755_0242ac1c0002row6_col3{\n",
              "            background-color:  #86a9fc;\n",
              "            color:  #000000;\n",
              "        }#T_d8f2a14a_1eb4_11ec_b755_0242ac1c0002row6_col4{\n",
              "            background-color:  #8fb1fe;\n",
              "            color:  #000000;\n",
              "        }#T_d8f2a14a_1eb4_11ec_b755_0242ac1c0002row6_col5{\n",
              "            background-color:  #a1c0ff;\n",
              "            color:  #000000;\n",
              "        }</style><table id=\"T_d8f2a14a_1eb4_11ec_b755_0242ac1c0002\" ><thead>    <tr>        <th class=\"blank level0\" ></th>        <th class=\"col_heading level0 col0\" >latitude</th>        <th class=\"col_heading level0 col1\" >longitude</th>        <th class=\"col_heading level0 col2\" >minimum_nights</th>        <th class=\"col_heading level0 col3\" >number_of_reviews</th>        <th class=\"col_heading level0 col4\" >reviews_per_month</th>        <th class=\"col_heading level0 col5\" >calculated_host_listings_count</th>        <th class=\"col_heading level0 col6\" >availability_365</th>    </tr></thead><tbody>\n",
              "                <tr>\n",
              "                        <th id=\"T_d8f2a14a_1eb4_11ec_b755_0242ac1c0002level0_row0\" class=\"row_heading level0 row0\" >latitude</th>\n",
              "                        <td id=\"T_d8f2a14a_1eb4_11ec_b755_0242ac1c0002row0_col0\" class=\"data row0 col0\" >1.00</td>\n",
              "                        <td id=\"T_d8f2a14a_1eb4_11ec_b755_0242ac1c0002row0_col1\" class=\"data row0 col1\" >0.08</td>\n",
              "                        <td id=\"T_d8f2a14a_1eb4_11ec_b755_0242ac1c0002row0_col2\" class=\"data row0 col2\" >0.03</td>\n",
              "                        <td id=\"T_d8f2a14a_1eb4_11ec_b755_0242ac1c0002row0_col3\" class=\"data row0 col3\" >-0.01</td>\n",
              "                        <td id=\"T_d8f2a14a_1eb4_11ec_b755_0242ac1c0002row0_col4\" class=\"data row0 col4\" >-0.01</td>\n",
              "                        <td id=\"T_d8f2a14a_1eb4_11ec_b755_0242ac1c0002row0_col5\" class=\"data row0 col5\" >0.02</td>\n",
              "                        <td id=\"T_d8f2a14a_1eb4_11ec_b755_0242ac1c0002row0_col6\" class=\"data row0 col6\" >-0.01</td>\n",
              "            </tr>\n",
              "            <tr>\n",
              "                        <th id=\"T_d8f2a14a_1eb4_11ec_b755_0242ac1c0002level0_row1\" class=\"row_heading level0 row1\" >longitude</th>\n",
              "                        <td id=\"T_d8f2a14a_1eb4_11ec_b755_0242ac1c0002row1_col0\" class=\"data row1 col0\" >0.08</td>\n",
              "                        <td id=\"T_d8f2a14a_1eb4_11ec_b755_0242ac1c0002row1_col1\" class=\"data row1 col1\" >1.00</td>\n",
              "                        <td id=\"T_d8f2a14a_1eb4_11ec_b755_0242ac1c0002row1_col2\" class=\"data row1 col2\" >-0.06</td>\n",
              "                        <td id=\"T_d8f2a14a_1eb4_11ec_b755_0242ac1c0002row1_col3\" class=\"data row1 col3\" >0.06</td>\n",
              "                        <td id=\"T_d8f2a14a_1eb4_11ec_b755_0242ac1c0002row1_col4\" class=\"data row1 col4\" >0.13</td>\n",
              "                        <td id=\"T_d8f2a14a_1eb4_11ec_b755_0242ac1c0002row1_col5\" class=\"data row1 col5\" >-0.12</td>\n",
              "                        <td id=\"T_d8f2a14a_1eb4_11ec_b755_0242ac1c0002row1_col6\" class=\"data row1 col6\" >0.08</td>\n",
              "            </tr>\n",
              "            <tr>\n",
              "                        <th id=\"T_d8f2a14a_1eb4_11ec_b755_0242ac1c0002level0_row2\" class=\"row_heading level0 row2\" >minimum_nights</th>\n",
              "                        <td id=\"T_d8f2a14a_1eb4_11ec_b755_0242ac1c0002row2_col0\" class=\"data row2 col0\" >0.03</td>\n",
              "                        <td id=\"T_d8f2a14a_1eb4_11ec_b755_0242ac1c0002row2_col1\" class=\"data row2 col1\" >-0.06</td>\n",
              "                        <td id=\"T_d8f2a14a_1eb4_11ec_b755_0242ac1c0002row2_col2\" class=\"data row2 col2\" >1.00</td>\n",
              "                        <td id=\"T_d8f2a14a_1eb4_11ec_b755_0242ac1c0002row2_col3\" class=\"data row2 col3\" >-0.08</td>\n",
              "                        <td id=\"T_d8f2a14a_1eb4_11ec_b755_0242ac1c0002row2_col4\" class=\"data row2 col4\" >-0.12</td>\n",
              "                        <td id=\"T_d8f2a14a_1eb4_11ec_b755_0242ac1c0002row2_col5\" class=\"data row2 col5\" >0.12</td>\n",
              "                        <td id=\"T_d8f2a14a_1eb4_11ec_b755_0242ac1c0002row2_col6\" class=\"data row2 col6\" >0.14</td>\n",
              "            </tr>\n",
              "            <tr>\n",
              "                        <th id=\"T_d8f2a14a_1eb4_11ec_b755_0242ac1c0002level0_row3\" class=\"row_heading level0 row3\" >number_of_reviews</th>\n",
              "                        <td id=\"T_d8f2a14a_1eb4_11ec_b755_0242ac1c0002row3_col0\" class=\"data row3 col0\" >-0.01</td>\n",
              "                        <td id=\"T_d8f2a14a_1eb4_11ec_b755_0242ac1c0002row3_col1\" class=\"data row3 col1\" >0.06</td>\n",
              "                        <td id=\"T_d8f2a14a_1eb4_11ec_b755_0242ac1c0002row3_col2\" class=\"data row3 col2\" >-0.08</td>\n",
              "                        <td id=\"T_d8f2a14a_1eb4_11ec_b755_0242ac1c0002row3_col3\" class=\"data row3 col3\" >1.00</td>\n",
              "                        <td id=\"T_d8f2a14a_1eb4_11ec_b755_0242ac1c0002row3_col4\" class=\"data row3 col4\" >0.59</td>\n",
              "                        <td id=\"T_d8f2a14a_1eb4_11ec_b755_0242ac1c0002row3_col5\" class=\"data row3 col5\" >-0.07</td>\n",
              "                        <td id=\"T_d8f2a14a_1eb4_11ec_b755_0242ac1c0002row3_col6\" class=\"data row3 col6\" >0.17</td>\n",
              "            </tr>\n",
              "            <tr>\n",
              "                        <th id=\"T_d8f2a14a_1eb4_11ec_b755_0242ac1c0002level0_row4\" class=\"row_heading level0 row4\" >reviews_per_month</th>\n",
              "                        <td id=\"T_d8f2a14a_1eb4_11ec_b755_0242ac1c0002row4_col0\" class=\"data row4 col0\" >-0.01</td>\n",
              "                        <td id=\"T_d8f2a14a_1eb4_11ec_b755_0242ac1c0002row4_col1\" class=\"data row4 col1\" >0.13</td>\n",
              "                        <td id=\"T_d8f2a14a_1eb4_11ec_b755_0242ac1c0002row4_col2\" class=\"data row4 col2\" >-0.12</td>\n",
              "                        <td id=\"T_d8f2a14a_1eb4_11ec_b755_0242ac1c0002row4_col3\" class=\"data row4 col3\" >0.59</td>\n",
              "                        <td id=\"T_d8f2a14a_1eb4_11ec_b755_0242ac1c0002row4_col4\" class=\"data row4 col4\" >1.00</td>\n",
              "                        <td id=\"T_d8f2a14a_1eb4_11ec_b755_0242ac1c0002row4_col5\" class=\"data row4 col5\" >-0.05</td>\n",
              "                        <td id=\"T_d8f2a14a_1eb4_11ec_b755_0242ac1c0002row4_col6\" class=\"data row4 col6\" >0.17</td>\n",
              "            </tr>\n",
              "            <tr>\n",
              "                        <th id=\"T_d8f2a14a_1eb4_11ec_b755_0242ac1c0002level0_row5\" class=\"row_heading level0 row5\" >calculated_host_listings_count</th>\n",
              "                        <td id=\"T_d8f2a14a_1eb4_11ec_b755_0242ac1c0002row5_col0\" class=\"data row5 col0\" >0.02</td>\n",
              "                        <td id=\"T_d8f2a14a_1eb4_11ec_b755_0242ac1c0002row5_col1\" class=\"data row5 col1\" >-0.12</td>\n",
              "                        <td id=\"T_d8f2a14a_1eb4_11ec_b755_0242ac1c0002row5_col2\" class=\"data row5 col2\" >0.12</td>\n",
              "                        <td id=\"T_d8f2a14a_1eb4_11ec_b755_0242ac1c0002row5_col3\" class=\"data row5 col3\" >-0.07</td>\n",
              "                        <td id=\"T_d8f2a14a_1eb4_11ec_b755_0242ac1c0002row5_col4\" class=\"data row5 col4\" >-0.05</td>\n",
              "                        <td id=\"T_d8f2a14a_1eb4_11ec_b755_0242ac1c0002row5_col5\" class=\"data row5 col5\" >1.00</td>\n",
              "                        <td id=\"T_d8f2a14a_1eb4_11ec_b755_0242ac1c0002row5_col6\" class=\"data row5 col6\" >0.23</td>\n",
              "            </tr>\n",
              "            <tr>\n",
              "                        <th id=\"T_d8f2a14a_1eb4_11ec_b755_0242ac1c0002level0_row6\" class=\"row_heading level0 row6\" >availability_365</th>\n",
              "                        <td id=\"T_d8f2a14a_1eb4_11ec_b755_0242ac1c0002row6_col0\" class=\"data row6 col0\" >-0.01</td>\n",
              "                        <td id=\"T_d8f2a14a_1eb4_11ec_b755_0242ac1c0002row6_col1\" class=\"data row6 col1\" >0.08</td>\n",
              "                        <td id=\"T_d8f2a14a_1eb4_11ec_b755_0242ac1c0002row6_col2\" class=\"data row6 col2\" >0.14</td>\n",
              "                        <td id=\"T_d8f2a14a_1eb4_11ec_b755_0242ac1c0002row6_col3\" class=\"data row6 col3\" >0.17</td>\n",
              "                        <td id=\"T_d8f2a14a_1eb4_11ec_b755_0242ac1c0002row6_col4\" class=\"data row6 col4\" >0.17</td>\n",
              "                        <td id=\"T_d8f2a14a_1eb4_11ec_b755_0242ac1c0002row6_col5\" class=\"data row6 col5\" >0.23</td>\n",
              "                        <td id=\"T_d8f2a14a_1eb4_11ec_b755_0242ac1c0002row6_col6\" class=\"data row6 col6\" >1.00</td>\n",
              "            </tr>\n",
              "    </tbody></table>"
            ],
            "text/plain": [
              "<pandas.io.formats.style.Styler at 0x7fdc5d046850>"
            ]
          },
          "metadata": {},
          "execution_count": 104
        }
      ]
    },
    {
      "cell_type": "code",
      "metadata": {
        "colab": {
          "base_uri": "https://localhost:8080/",
          "height": 428
        },
        "id": "NN6IiTWc492b",
        "outputId": "87e6f531-c7f2-43a3-c83a-6187d516047c"
      },
      "source": [
        "sns.heatmap(corr)"
      ],
      "execution_count": null,
      "outputs": [
        {
          "output_type": "execute_result",
          "data": {
            "text/plain": [
              "<matplotlib.axes._subplots.AxesSubplot at 0x7fdc5d057c50>"
            ]
          },
          "metadata": {},
          "execution_count": 105
        },
        {
          "output_type": "display_data",
          "data": {
            "image/png": "[encoded data removed]",
            "text/plain": [
              "<Figure size 432x288 with 2 Axes>"
            ]
          },
          "metadata": {
            "needs_background": "light"
          }
        }
      ]
    },
    {
      "cell_type": "code",
      "metadata": {
        "colab": {
          "base_uri": "https://localhost:8080/"
        },
        "id": "ViWm79105PKI",
        "outputId": "4439b8e5-e5a9-49a4-e8da-b5d9fd2a0d13"
      },
      "source": [
        "# What are the two features that have the biggest correlation in this dataset?\n",
        "max_corr = -1\n",
        "columns = np.full((corr.shape[0],), True, dtype=bool)\n",
        "for i in range(corr.shape[0]):\n",
        "  for j in range(i+1, corr.shape[0]):\n",
        "    if corr.iloc[i,j] < 1.00 and  corr.iloc[i,j] > max_corr:\n",
        "      max_corr = corr.iloc[i,j]\n",
        "      print(\"Max corr is : \", max_corr, ' for :(', i,\",\", j, \")\")"
      ],
      "execution_count": null,
      "outputs": [
        {
          "output_type": "stream",
          "name": "stdout",
          "text": [
            "Max corr is :  0.08030088258320403  for :( 0 , 1 )\n",
            "Max corr is :  0.13464215986454384  for :( 1 , 4 )\n",
            "Max corr is :  0.13890125161845288  for :( 2 , 6 )\n",
            "Max corr is :  0.5903739015971261  for :( 3 , 4 )\n"
          ]
        }
      ]
    },
    {
      "cell_type": "code",
      "metadata": {
        "colab": {
          "base_uri": "https://localhost:8080/"
        },
        "id": "ZFEX4H2mAIWQ",
        "outputId": "5fff2b85-a578-49c3-b530-42ff6c6352a7"
      },
      "source": [
        "y_train.max()"
      ],
      "execution_count": null,
      "outputs": [
        {
          "output_type": "execute_result",
          "data": {
            "text/plain": [
              "10000"
            ]
          },
          "metadata": {},
          "execution_count": 107
        }
      ]
    },
    {
      "cell_type": "code",
      "metadata": {
        "id": "YcugQwz06abZ"
      },
      "source": [
        "# Make price binary*\n",
        "# We need to turn the price variable from numeric into binary.\n",
        "def make_binary(series):\n",
        "  series = series.copy()\n",
        "  for i in range(len(series)):\n",
        "   series[i] = np.binary_repr(series[i])\n",
        "  return series\n"
      ],
      "execution_count": null,
      "outputs": []
    },
    {
      "cell_type": "code",
      "metadata": {
        "id": "-TVzLf1n_e-m"
      },
      "source": [
        "y_train_binary = make_binary(y_train)"
      ],
      "execution_count": null,
      "outputs": []
    },
    {
      "cell_type": "code",
      "metadata": {
        "colab": {
          "base_uri": "https://localhost:8080/"
        },
        "id": "ZhKxBUFEdHxM",
        "outputId": "bbc5e21d-e265-4612-e76b-293ae1817150"
      },
      "source": [
        "y_train[:5]\n"
      ],
      "execution_count": null,
      "outputs": [
        {
          "output_type": "execute_result",
          "data": {
            "text/plain": [
              "array([ 99,  57,  70, 130, 110])"
            ]
          },
          "metadata": {},
          "execution_count": 110
        }
      ]
    },
    {
      "cell_type": "code",
      "metadata": {
        "colab": {
          "base_uri": "https://localhost:8080/"
        },
        "id": "4PvLPHYUdKNb",
        "outputId": "250592f2-b8e6-4076-c9b9-70af3d8bff5e"
      },
      "source": [
        "y_train_binary[:5]"
      ],
      "execution_count": null,
      "outputs": [
        {
          "output_type": "execute_result",
          "data": {
            "text/plain": [
              "array([ 1100011,   111001,  1000110, 10000010,  1101110])"
            ]
          },
          "metadata": {},
          "execution_count": 111
        }
      ]
    },
    {
      "cell_type": "code",
      "metadata": {
        "id": "uCOmtGOLdSJP"
      },
      "source": [
        "# Let's create a variable above_average which is 1 if the price is above (or equal to) 152.\n",
        "\n",
        "# Obtain binarized prices for all datasets \n",
        "bin_price_val = (y_val >= 152).astype(int)\n",
        "bin_price_train = (y_train >= 152).astype(int)\n",
        "bin_price_test = (y_test >= 152).astype(int)"
      ],
      "execution_count": null,
      "outputs": []
    },
    {
      "cell_type": "markdown",
      "metadata": {
        "id": "5fIF__QcfOWc"
      },
      "source": [
        "# Question 3\n",
        "\n",
        "*   Calculate the mutual information score with the (binarized) price for the two categorical variables that we have. Use the training set only.\n",
        "*   Which of these two variables has bigger score?\n",
        "\n",
        "\n",
        "*   Round it to 2 decimal digits using round(score, 2)\n",
        "\n",
        "\n",
        "\n",
        "\n",
        "\n",
        "\n"
      ]
    },
    {
      "cell_type": "code",
      "metadata": {
        "id": "1JX0cZF2e2Rj"
      },
      "source": [
        "from sklearn.metrics import mutual_info_score\n",
        "def calculate_mutual_information(series):\n",
        "  return np.round(mutual_info_score(series, bin_price_train), 2)\n"
      ],
      "execution_count": null,
      "outputs": []
    },
    {
      "cell_type": "code",
      "metadata": {
        "colab": {
          "base_uri": "https://localhost:8080/"
        },
        "id": "phDXHvT5jXNK",
        "outputId": "05c9a708-ba33-46cb-88d3-64601ce781ef"
      },
      "source": [
        "mi = df_train[categorical].apply(calculate_mutual_information)\n",
        "mi.sort_values(ascending = False)"
      ],
      "execution_count": null,
      "outputs": [
        {
          "output_type": "execute_result",
          "data": {
            "text/plain": [
              "room_type              0.14\n",
              "neighbourhood_group    0.05\n",
              "dtype: float64"
            ]
          },
          "metadata": {},
          "execution_count": 114
        }
      ]
    },
    {
      "cell_type": "markdown",
      "metadata": {
        "id": "DYBa-NJEzIBN"
      },
      "source": [
        "\n",
        "\n",
        "```\n",
        "Answer: room_type variable has the bigger mutual information score.\n",
        "```\n",
        "\n"
      ]
    },
    {
      "cell_type": "markdown",
      "metadata": {
        "id": "h3BtEdC5nmtM"
      },
      "source": [
        "# Question 4\n",
        "\n",
        "* Now let's train a logistic regression\n",
        "* Remember that we have two categorical variables in the data. Include them using one-hot encoding.\n",
        "* Fit the model on the training dataset.\n",
        "  * To make sure the results are reproducible across different versions of Scikit-Learn, fit the model with these parameters:\n",
        "  * model = LogisticRegression(solver='lbfgs', C=1.0, random_state=42)\n",
        "* Calculate the accuracy on the validation dataset and rount it to 2 decimal digits."
      ]
    },
    {
      "cell_type": "code",
      "metadata": {
        "id": "6A8Eg6yVoKXp"
      },
      "source": [
        "from sklearn.feature_extraction import DictVectorizer\n",
        "dv = DictVectorizer(sparse=False)\n",
        "train_dict = df_train[categorical + numerical].to_dict(orient='records')\n",
        "X_train = dv.fit_transform(train_dict)\n",
        "val_dict = df_val[categorical + numerical].to_dict(orient='records')\n",
        "X_val = dv.transform(val_dict)"
      ],
      "execution_count": null,
      "outputs": []
    },
    {
      "cell_type": "code",
      "metadata": {
        "colab": {
          "base_uri": "https://localhost:8080/"
        },
        "id": "kCgttwlCpZ9Z",
        "outputId": "79fda4f8-9c2a-426f-b9b8-f11f3a0519c0"
      },
      "source": [
        "X_train"
      ],
      "execution_count": null,
      "outputs": [
        {
          "output_type": "execute_result",
          "data": {
            "text/plain": [
              "array([[ 50.     ,  13.     ,  40.7276 , ...,   1.     ,   0.     ,\n",
              "          0.     ],\n",
              "       [  7.     ,   1.     ,  40.70847, ...,   0.     ,   1.     ,\n",
              "          0.     ],\n",
              "       [  0.     ,   1.     ,  40.83149, ...,   1.     ,   0.     ,\n",
              "          0.     ],\n",
              "       ...,\n",
              "       [ 88.     ,   1.     ,  40.79994, ...,   0.     ,   1.     ,\n",
              "          0.     ],\n",
              "       [  0.     ,   1.     ,  40.69585, ...,   0.     ,   1.     ,\n",
              "          0.     ],\n",
              "       [281.     ,   2.     ,  40.64438, ...,   1.     ,   0.     ,\n",
              "          0.     ]])"
            ]
          },
          "metadata": {},
          "execution_count": 116
        }
      ]
    },
    {
      "cell_type": "code",
      "metadata": {
        "colab": {
          "base_uri": "https://localhost:8080/"
        },
        "id": "XP7vFejno35-",
        "outputId": "da187fb3-8ed2-4333-bd5e-7908386afd60"
      },
      "source": [
        "from sklearn.linear_model import LogisticRegression\n",
        "model = LogisticRegression(solver='liblinear', C=1.0, random_state=42)\n",
        "model.fit(X_train, bin_price_train)"
      ],
      "execution_count": null,
      "outputs": [
        {
          "output_type": "execute_result",
          "data": {
            "text/plain": [
              "LogisticRegression(C=1.0, class_weight=None, dual=False, fit_intercept=True,\n",
              "                   intercept_scaling=1, l1_ratio=None, max_iter=100,\n",
              "                   multi_class='auto', n_jobs=None, penalty='l2',\n",
              "                   random_state=42, solver='liblinear', tol=0.0001, verbose=0,\n",
              "                   warm_start=False)"
            ]
          },
          "metadata": {},
          "execution_count": 119
        }
      ]
    },
    {
      "cell_type": "code",
      "metadata": {
        "id": "eDGJXLk6phJN"
      },
      "source": [
        "# predictions on the validation dataset \n",
        "y_pred = model.predict_proba(X_val)[:, 1]"
      ],
      "execution_count": null,
      "outputs": []
    },
    {
      "cell_type": "code",
      "metadata": {
        "colab": {
          "base_uri": "https://localhost:8080/"
        },
        "id": "ER8RTOsdqXqR",
        "outputId": "056a608c-7c3b-476c-e231-218ab6c14084"
      },
      "source": [
        "y_pred[:10]"
      ],
      "execution_count": null,
      "outputs": [
        {
          "output_type": "execute_result",
          "data": {
            "text/plain": [
              "array([0.02879082, 0.59585524, 0.42623594, 0.07493569, 0.81180978,\n",
              "       0.33195823, 0.68563097, 0.54104382, 0.07675181, 0.60833048])"
            ]
          },
          "metadata": {},
          "execution_count": 121
        }
      ]
    },
    {
      "cell_type": "code",
      "metadata": {
        "id": "-5IGvskPqaYi"
      },
      "source": [
        "# probablity cutoff \n",
        "prob = (y_pred >= 0.5)"
      ],
      "execution_count": null,
      "outputs": []
    },
    {
      "cell_type": "code",
      "metadata": {
        "colab": {
          "base_uri": "https://localhost:8080/"
        },
        "id": "JzNhpQ35qtNz",
        "outputId": "ee34088e-1454-4a13-fe72-dd22be17d509"
      },
      "source": [
        "prob"
      ],
      "execution_count": null,
      "outputs": [
        {
          "output_type": "execute_result",
          "data": {
            "text/plain": [
              "array([False,  True, False, ..., False, False,  True])"
            ]
          },
          "metadata": {},
          "execution_count": 123
        }
      ]
    },
    {
      "cell_type": "code",
      "metadata": {
        "colab": {
          "base_uri": "https://localhost:8080/"
        },
        "id": "tM-poQ-Eqtu2",
        "outputId": "759e5759-7e8a-4970-d54e-b7685ca643be"
      },
      "source": [
        "accuracy = round((bin_price_val == prob).mean(), 2)\n",
        "accuracy"
      ],
      "execution_count": null,
      "outputs": [
        {
          "output_type": "execute_result",
          "data": {
            "text/plain": [
              "0.79"
            ]
          },
          "metadata": {},
          "execution_count": 124
        }
      ]
    },
    {
      "cell_type": "markdown",
      "metadata": {
        "id": "gcU8dMTurCPB"
      },
      "source": [
        "Accuracy for validation dataset is : 79% "
      ]
    },
    {
      "cell_type": "markdown",
      "metadata": {
        "id": "_A6CghfXrG_i"
      },
      "source": [
        "# Question 5\n",
        "\n",
        "\n",
        "\n",
        "```\n",
        "We have 9 features: 7 numerical features and 2 categorical.\n",
        "1. Let's find the least useful one using the feature elimination technique.\n",
        "2. Train a model with all these features (using the same parameters as in Q4).\n",
        "3. Now exclude each feature from this set and train a model without it. \n",
        "4. Record the accuracy for each model.\n",
        "5. For each feature, calculate the difference between the original accuracy and the accuracy without the feature.\n",
        "6. Which of following feature has the smallest difference?\n",
        "    neighbourhood_group\n",
        "    room_type\n",
        "    number_of_reviews\n",
        "    reviews_per_month\n",
        "```\n",
        "\n"
      ]
    },
    {
      "cell_type": "code",
      "metadata": {
        "colab": {
          "base_uri": "https://localhost:8080/"
        },
        "id": "4YSobia7q-lE",
        "outputId": "b2de7a94-bffc-4abb-f305-9231a7f38419"
      },
      "source": [
        "elimination = ['neighbourhood_group', 'room_type', 'number_of_reviews', 'reviews_per_month']\n",
        "for feature in elimination:\n",
        "  df_train_temp = df_train.drop(feature, axis = 1)\n",
        "  train_dict_temp = df_train_temp.to_dict(orient = 'records')\n",
        "  dv_temp = DictVectorizer()\n",
        "  X_train_temp = dv_temp.fit_transform(train_dict_temp)\n",
        "\n",
        "  model.fit(X_train_temp, bin_price_train)\n",
        "\n",
        "  df_val_temp = df_val.drop(feature, 1)\n",
        "  val_dict_temp = df_val_temp.to_dict(orient = 'records')\n",
        "  X_val_temp = dv_temp.fit_transform(val_dict_temp)\n",
        "\n",
        "  y_pred_temp = model.predict(X_val_temp)\n",
        "  prob_temp = (y_pred_temp >= 0.5)\n",
        "\n",
        "  accuracy_temp = (bin_price_val == prob_temp).mean()\n",
        "  diff_accuracy = abs(accuracy - accuracy_temp)\n",
        "\n",
        "  print(\"Removing : \", feature, \" yeilds difference of: \", round(diff_accuracy, 4))\n"
      ],
      "execution_count": null,
      "outputs": [
        {
          "output_type": "stream",
          "name": "stdout",
          "text": [
            "Removing :  neighbourhood_group  yeilds difference of:  0.0401\n",
            "Removing :  room_type  yeilds difference of:  0.0614\n",
            "Removing :  number_of_reviews  yeilds difference of:  0.0012\n",
            "Removing :  reviews_per_month  yeilds difference of:  0.0008\n"
          ]
        }
      ]
    },
    {
      "cell_type": "markdown",
      "metadata": {
        "id": "bgfkAAtmv8pQ"
      },
      "source": [
        "Removing :  reviews_per_month  yeilds difference of:  0.0008\n",
        "Which is the samllest in the four elimination features"
      ]
    },
    {
      "cell_type": "markdown",
      "metadata": {
        "id": "ZS1Hv1CSwHbi"
      },
      "source": [
        "# Question 6\n",
        "\n",
        "\n",
        "```\n",
        "For this question, we'll see how to use a linear regression model from Scikit-Learn\n",
        "We'll need to use the original column 'price'. Apply the logarithmic transformation to this column.\n",
        "Fit the Ridge regression model on the training data.\n",
        "This model has a parameter alpha. Let's try the following values: [0, 0.01, 0.1, 1, 10]\n",
        "Which of these alphas leads to the best RMSE on the validation set? Round your RMSE scores to 3 decimal digits.\n",
        "If there are multiple options, select the smallest alpha.\n",
        "```\n",
        "\n"
      ]
    },
    {
      "cell_type": "code",
      "metadata": {
        "id": "1bUk18v_vXn_"
      },
      "source": [
        "# We'll need to use the original column 'price'. Apply the logarithmic transformation to this column.\n",
        "y_train_log = np.log1p(y_train)\n",
        "y_val_log = np.log1p(y_val)\n",
        "y_test_log = np.log1p(y_test)"
      ],
      "execution_count": null,
      "outputs": []
    },
    {
      "cell_type": "code",
      "metadata": {
        "colab": {
          "base_uri": "https://localhost:8080/"
        },
        "id": "JI3UWLezwr7m",
        "outputId": "b3e6fb9a-798e-4297-e39a-9af914afb11f"
      },
      "source": [
        "# Fit the Ridge regression model on the training data.\n",
        "from sklearn.linear_model import Ridge\n",
        "from sklearn.metrics import mean_squared_error\n",
        "\n",
        "# This model has a parameter alpha. Let's try the following values: [0, 0.01, 0.1, 1, 10]\n",
        "alphas = [0, 0.01, 0.1, 1, 10]\n",
        "for i in alphas:\n",
        "  model_ridge = Ridge(alpha = i)\n",
        "  # Fit the Ridge regression model on the training data.\n",
        "  model_ridge.fit(X_train, y_train_log)\n",
        "  y_pred_ridge = model_ridge.predict(X_val) \n",
        "  rmse = np.sqrt(mean_squared_error(y_val_log, y_pred_ridge))\n",
        "  # Which of these alphas leads to the best RMSE on the validation set? Round your RMSE scores to 3 decimal digits.\n",
        "  print(\"For alpha = \", i, \" RMSE is ->\", round(rmse, 3))"
      ],
      "execution_count": null,
      "outputs": [
        {
          "output_type": "stream",
          "name": "stdout",
          "text": [
            "For alpha =  0  RMSE is -> 0.497\n",
            "For alpha =  0.01  RMSE is -> 0.497\n",
            "For alpha =  0.1  RMSE is -> 0.497\n",
            "For alpha =  1  RMSE is -> 0.497\n",
            "For alpha =  10  RMSE is -> 0.498\n"
          ]
        }
      ]
    },
    {
      "cell_type": "markdown",
      "metadata": {
        "id": "Tm7j9_W8yX2f"
      },
      "source": [
        "\n",
        "\n",
        "```\n",
        "Here we have multiple options like \n",
        "0, 0.1, 0.01, 1 -> all yeild same RMSE\n",
        "hence the smallest one is 0.01\n",
        "```\n",
        "\n"
      ]
    },
    {
      "cell_type": "code",
      "metadata": {
        "id": "VaimBPbkyBeZ"
      },
      "source": [
        ""
      ],
      "execution_count": null,
      "outputs": []
    }
  ]
}