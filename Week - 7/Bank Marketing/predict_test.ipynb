{
 "cells": [
  {
   "cell_type": "code",
   "execution_count": 13,
   "id": "9ffc008c",
   "metadata": {},
   "outputs": [],
   "source": [
    "import requests"
   ]
  },
  {
   "cell_type": "code",
   "execution_count": 14,
   "id": "a194e700",
   "metadata": {},
   "outputs": [],
   "source": [
    "url = 'http://172.24.76.92:9696/predict'"
   ]
  },
  {
   "cell_type": "code",
   "execution_count": 15,
   "id": "256a8ca5",
   "metadata": {},
   "outputs": [],
   "source": [
    "customer_id = 11428\n",
    "customer_data = {\n",
    "    \"age\" : 59,\n",
    "    \"job\" : \"technician\",\n",
    "    \"marital\" : \"married\",\n",
    "    \"education\" : \"secondary\",\n",
    "    \"balance\" : 2528,\n",
    "    \"housing\": 0,\n",
    "    \"loan\": 0,\n",
    "    \"contact\": \"unknown\",\n",
    "    \"day\" : 19,\n",
    "    \"month\" : \"jun\",\n",
    "    \"pdays\": -1,\n",
    "    \"previous\": 0,\n",
    "    \"poutcome\": \"unknown\"\n",
    "}"
   ]
  },
  {
   "cell_type": "code",
   "execution_count": 16,
   "id": "aa9ef92f",
   "metadata": {},
   "outputs": [
    {
     "name": "stdout",
     "output_type": "stream",
     "text": [
      "Requesting service.................\n",
      "Sending Customer Data for Customer Id :  11428   to Term Deposit Subscription Service.......\n"
     ]
    }
   ],
   "source": [
    "print(\"Requesting service.................\")\n",
    "print(\"Sending Customer Data for Customer Id : \",customer_id,\"  to Term Deposit Subscription Service.......\")\n"
   ]
  },
  {
   "cell_type": "code",
   "execution_count": 17,
   "id": "88c41548",
   "metadata": {},
   "outputs": [
    {
     "name": "stdout",
     "output_type": "stream",
     "text": [
      "{'subscribe': False, 'subscription-probablity': 0.03937769681215286}\n"
     ]
    }
   ],
   "source": [
    "response = requests.post(url, json=customer_data).json()\n",
    "print(response)"
   ]
  },
  {
   "cell_type": "code",
   "execution_count": 25,
   "id": "bbb9b928",
   "metadata": {},
   "outputs": [
    {
     "name": "stdout",
     "output_type": "stream",
     "text": [
      "Getting response from the service.................\n",
      "The probablity of subscription for customer with id :  11428  is 0.039\n"
     ]
    }
   ],
   "source": [
    "print(\"Getting response from the service.................\")\n",
    "print(\"The probablity of subscription for customer with id : \", customer_id,\" is\", round(response['subscription-probablity'],3))"
   ]
  },
  {
   "cell_type": "code",
   "execution_count": 26,
   "id": "7b520b66",
   "metadata": {},
   "outputs": [
    {
     "name": "stdout",
     "output_type": "stream",
     "text": [
      "Suggested input for Marketing Team:\n",
      "Do not Send marketing email to the potential customer with id 11428  for the subscription of Term Deposit\n"
     ]
    }
   ],
   "source": [
    "print(\"Suggested input for Marketing Team:\")\n",
    "if(response['subscribe'] == True):\n",
    "    print(\"Send marketing email to the potential customer with id\", customer_id, \" for the subscription of Term Deposit\")\n",
    "else:\n",
    "    print(\"Do not Send marketing email to the potential customer with id\", customer_id, \" for the subscription of Term Deposit\")"
   ]
  },
  {
   "cell_type": "code",
   "execution_count": null,
   "id": "791589a3",
   "metadata": {},
   "outputs": [],
   "source": []
  }
 ],
 "metadata": {
  "kernelspec": {
   "display_name": "Python 3",
   "language": "python",
   "name": "python3"
  },
  "language_info": {
   "codemirror_mode": {
    "name": "ipython",
    "version": 3
   },
   "file_extension": ".py",
   "mimetype": "text/x-python",
   "name": "python",
   "nbconvert_exporter": "python",
   "pygments_lexer": "ipython3",
   "version": "3.8.8"
  }
 },
 "nbformat": 4,
 "nbformat_minor": 5
}
