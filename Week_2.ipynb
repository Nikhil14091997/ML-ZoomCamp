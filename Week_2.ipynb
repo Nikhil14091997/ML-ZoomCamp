{
  "nbformat": 4,
  "nbformat_minor": 0,
  "metadata": {
    "colab": {
      "name": "Week-2.ipynb",
      "provenance": [],
      "authorship_tag": "ABX9TyOHk3644jx250hykcnkh1Fo",
      "include_colab_link": true
    },
    "kernelspec": {
      "name": "python3",
      "display_name": "Python 3"
    },
    "language_info": {
      "name": "python"
    }
  },
  "cells": [
    {
      "cell_type": "markdown",
      "metadata": {
        "id": "view-in-github",
        "colab_type": "text"
      },
      "source": [
        "<a href=\"https://colab.research.google.com/github/Nikhil14091997/ML-ZoomCamp/blob/main/Week_2.ipynb\" target=\"_parent\"><img src=\"https://colab.research.google.com/assets/colab-badge.svg\" alt=\"Open In Colab\"/></a>"
      ]
    },
    {
      "cell_type": "markdown",
      "metadata": {
        "id": "51vW7RxObu4u"
      },
      "source": [
        "# Dataset\n",
        "In this homework, we will use the New York City Airbnb Open Data. You can take it from Kaggle or download from here if you don't want to sign up to Kaggle.\n",
        "\n",
        "The goal of this homework is to create a regression model for prediction apartment prices (column 'price').\n",
        "\n",
        "**EDA**\n",
        "\n",
        "Load the data.\n",
        "\n",
        "Look at the price variable. Does it have a long tail?\n",
        "\n",
        "Features\n",
        "\n",
        "For the rest of the homework, you'll need to use only these columns:\n",
        "\n",
        "\n",
        "```\n",
        "'latitude',\n",
        "'longitude',\n",
        "'price',\n",
        "'minimum_nights',\n",
        "'number_of_reviews',\n",
        "'reviews_per_month',\n",
        "'calculated_host_listings_count',\n",
        "'availability_365'\n",
        "Select only them.\n",
        "```\n",
        "\n"
      ]
    },
    {
      "cell_type": "code",
      "metadata": {
        "id": "Lv_CUg5rcUY0"
      },
      "source": [
        "import pandas as pd\n",
        "import numpy as np\n",
        "import matplotlib.pyplot as plt\n",
        "import seaborn as sns\n",
        "\n",
        "%matplotlib inline\n"
      ],
      "execution_count": 1,
      "outputs": []
    },
    {
      "cell_type": "code",
      "metadata": {
        "colab": {
          "base_uri": "https://localhost:8080/",
          "height": 405
        },
        "id": "htiMiBZ5blMB",
        "outputId": "5145e810-a874-437a-d7f5-9065ac584a48"
      },
      "source": [
        "dataset = pd.read_csv('AB_NYC_2019.csv')\n",
        "dataset.head()"
      ],
      "execution_count": 2,
      "outputs": [
        {
          "output_type": "execute_result",
          "data": {
            "text/html": [
              "<div>\n",
              "<style scoped>\n",
              "    .dataframe tbody tr th:only-of-type {\n",
              "        vertical-align: middle;\n",
              "    }\n",
              "\n",
              "    .dataframe tbody tr th {\n",
              "        vertical-align: top;\n",
              "    }\n",
              "\n",
              "    .dataframe thead th {\n",
              "        text-align: right;\n",
              "    }\n",
              "</style>\n",
              "<table border=\"1\" class=\"dataframe\">\n",
              "  <thead>\n",
              "    <tr style=\"text-align: right;\">\n",
              "      <th></th>\n",
              "      <th>id</th>\n",
              "      <th>name</th>\n",
              "      <th>host_id</th>\n",
              "      <th>host_name</th>\n",
              "      <th>neighbourhood_group</th>\n",
              "      <th>neighbourhood</th>\n",
              "      <th>latitude</th>\n",
              "      <th>longitude</th>\n",
              "      <th>room_type</th>\n",
              "      <th>price</th>\n",
              "      <th>minimum_nights</th>\n",
              "      <th>number_of_reviews</th>\n",
              "      <th>last_review</th>\n",
              "      <th>reviews_per_month</th>\n",
              "      <th>calculated_host_listings_count</th>\n",
              "      <th>availability_365</th>\n",
              "    </tr>\n",
              "  </thead>\n",
              "  <tbody>\n",
              "    <tr>\n",
              "      <th>0</th>\n",
              "      <td>2539</td>\n",
              "      <td>Clean &amp; quiet apt home by the park</td>\n",
              "      <td>2787</td>\n",
              "      <td>John</td>\n",
              "      <td>Brooklyn</td>\n",
              "      <td>Kensington</td>\n",
              "      <td>40.64749</td>\n",
              "      <td>-73.97237</td>\n",
              "      <td>Private room</td>\n",
              "      <td>149</td>\n",
              "      <td>1</td>\n",
              "      <td>9</td>\n",
              "      <td>2018-10-19</td>\n",
              "      <td>0.21</td>\n",
              "      <td>6</td>\n",
              "      <td>365</td>\n",
              "    </tr>\n",
              "    <tr>\n",
              "      <th>1</th>\n",
              "      <td>2595</td>\n",
              "      <td>Skylit Midtown Castle</td>\n",
              "      <td>2845</td>\n",
              "      <td>Jennifer</td>\n",
              "      <td>Manhattan</td>\n",
              "      <td>Midtown</td>\n",
              "      <td>40.75362</td>\n",
              "      <td>-73.98377</td>\n",
              "      <td>Entire home/apt</td>\n",
              "      <td>225</td>\n",
              "      <td>1</td>\n",
              "      <td>45</td>\n",
              "      <td>2019-05-21</td>\n",
              "      <td>0.38</td>\n",
              "      <td>2</td>\n",
              "      <td>355</td>\n",
              "    </tr>\n",
              "    <tr>\n",
              "      <th>2</th>\n",
              "      <td>3647</td>\n",
              "      <td>THE VILLAGE OF HARLEM....NEW YORK !</td>\n",
              "      <td>4632</td>\n",
              "      <td>Elisabeth</td>\n",
              "      <td>Manhattan</td>\n",
              "      <td>Harlem</td>\n",
              "      <td>40.80902</td>\n",
              "      <td>-73.94190</td>\n",
              "      <td>Private room</td>\n",
              "      <td>150</td>\n",
              "      <td>3</td>\n",
              "      <td>0</td>\n",
              "      <td>NaN</td>\n",
              "      <td>NaN</td>\n",
              "      <td>1</td>\n",
              "      <td>365</td>\n",
              "    </tr>\n",
              "    <tr>\n",
              "      <th>3</th>\n",
              "      <td>3831</td>\n",
              "      <td>Cozy Entire Floor of Brownstone</td>\n",
              "      <td>4869</td>\n",
              "      <td>LisaRoxanne</td>\n",
              "      <td>Brooklyn</td>\n",
              "      <td>Clinton Hill</td>\n",
              "      <td>40.68514</td>\n",
              "      <td>-73.95976</td>\n",
              "      <td>Entire home/apt</td>\n",
              "      <td>89</td>\n",
              "      <td>1</td>\n",
              "      <td>270</td>\n",
              "      <td>2019-07-05</td>\n",
              "      <td>4.64</td>\n",
              "      <td>1</td>\n",
              "      <td>194</td>\n",
              "    </tr>\n",
              "    <tr>\n",
              "      <th>4</th>\n",
              "      <td>5022</td>\n",
              "      <td>Entire Apt: Spacious Studio/Loft by central park</td>\n",
              "      <td>7192</td>\n",
              "      <td>Laura</td>\n",
              "      <td>Manhattan</td>\n",
              "      <td>East Harlem</td>\n",
              "      <td>40.79851</td>\n",
              "      <td>-73.94399</td>\n",
              "      <td>Entire home/apt</td>\n",
              "      <td>80</td>\n",
              "      <td>10</td>\n",
              "      <td>9</td>\n",
              "      <td>2018-11-19</td>\n",
              "      <td>0.10</td>\n",
              "      <td>1</td>\n",
              "      <td>0</td>\n",
              "    </tr>\n",
              "  </tbody>\n",
              "</table>\n",
              "</div>"
            ],
            "text/plain": [
              "     id  ... availability_365\n",
              "0  2539  ...              365\n",
              "1  2595  ...              355\n",
              "2  3647  ...              365\n",
              "3  3831  ...              194\n",
              "4  5022  ...                0\n",
              "\n",
              "[5 rows x 16 columns]"
            ]
          },
          "metadata": {},
          "execution_count": 2
        }
      ]
    },
    {
      "cell_type": "code",
      "metadata": {
        "colab": {
          "base_uri": "https://localhost:8080/",
          "height": 296
        },
        "id": "J3ESPDSmckAy",
        "outputId": "15be0800-4b3e-402a-87c8-a271f9892b00"
      },
      "source": [
        "sns.histplot(dataset.price, bins = 30)"
      ],
      "execution_count": 3,
      "outputs": [
        {
          "output_type": "execute_result",
          "data": {
            "text/plain": [
              "<matplotlib.axes._subplots.AxesSubplot at 0x7f5489835910>"
            ]
          },
          "metadata": {},
          "execution_count": 3
        },
        {
          "output_type": "display_data",
          "data": {
            "image/png": "[encoded data removed]",
            "text/plain": [
              "<Figure size 432x288 with 1 Axes>"
            ]
          },
          "metadata": {
            "needs_background": "light"
          }
        }
      ]
    },
    {
      "cell_type": "code",
      "metadata": {
        "colab": {
          "base_uri": "https://localhost:8080/",
          "height": 202
        },
        "id": "VhvSXvjhczAD",
        "outputId": "315de57e-61e7-46e6-b0bf-14283e4a2321"
      },
      "source": [
        "cols = [\n",
        "        'latitude',\n",
        "        'longitude',\n",
        "        'price',\n",
        "        'minimum_nights',\n",
        "        'number_of_reviews',\n",
        "        'reviews_per_month',\n",
        "        'calculated_host_listings_count',\n",
        "        'availability_365'\n",
        "        ]\n",
        "# getting the data frame with the mentioned columns\n",
        "df = dataset[cols]\n",
        "df.tail()"
      ],
      "execution_count": 4,
      "outputs": [
        {
          "output_type": "execute_result",
          "data": {
            "text/html": [
              "<div>\n",
              "<style scoped>\n",
              "    .dataframe tbody tr th:only-of-type {\n",
              "        vertical-align: middle;\n",
              "    }\n",
              "\n",
              "    .dataframe tbody tr th {\n",
              "        vertical-align: top;\n",
              "    }\n",
              "\n",
              "    .dataframe thead th {\n",
              "        text-align: right;\n",
              "    }\n",
              "</style>\n",
              "<table border=\"1\" class=\"dataframe\">\n",
              "  <thead>\n",
              "    <tr style=\"text-align: right;\">\n",
              "      <th></th>\n",
              "      <th>latitude</th>\n",
              "      <th>longitude</th>\n",
              "      <th>price</th>\n",
              "      <th>minimum_nights</th>\n",
              "      <th>number_of_reviews</th>\n",
              "      <th>reviews_per_month</th>\n",
              "      <th>calculated_host_listings_count</th>\n",
              "      <th>availability_365</th>\n",
              "    </tr>\n",
              "  </thead>\n",
              "  <tbody>\n",
              "    <tr>\n",
              "      <th>48890</th>\n",
              "      <td>40.67853</td>\n",
              "      <td>-73.94995</td>\n",
              "      <td>70</td>\n",
              "      <td>2</td>\n",
              "      <td>0</td>\n",
              "      <td>NaN</td>\n",
              "      <td>2</td>\n",
              "      <td>9</td>\n",
              "    </tr>\n",
              "    <tr>\n",
              "      <th>48891</th>\n",
              "      <td>40.70184</td>\n",
              "      <td>-73.93317</td>\n",
              "      <td>40</td>\n",
              "      <td>4</td>\n",
              "      <td>0</td>\n",
              "      <td>NaN</td>\n",
              "      <td>2</td>\n",
              "      <td>36</td>\n",
              "    </tr>\n",
              "    <tr>\n",
              "      <th>48892</th>\n",
              "      <td>40.81475</td>\n",
              "      <td>-73.94867</td>\n",
              "      <td>115</td>\n",
              "      <td>10</td>\n",
              "      <td>0</td>\n",
              "      <td>NaN</td>\n",
              "      <td>1</td>\n",
              "      <td>27</td>\n",
              "    </tr>\n",
              "    <tr>\n",
              "      <th>48893</th>\n",
              "      <td>40.75751</td>\n",
              "      <td>-73.99112</td>\n",
              "      <td>55</td>\n",
              "      <td>1</td>\n",
              "      <td>0</td>\n",
              "      <td>NaN</td>\n",
              "      <td>6</td>\n",
              "      <td>2</td>\n",
              "    </tr>\n",
              "    <tr>\n",
              "      <th>48894</th>\n",
              "      <td>40.76404</td>\n",
              "      <td>-73.98933</td>\n",
              "      <td>90</td>\n",
              "      <td>7</td>\n",
              "      <td>0</td>\n",
              "      <td>NaN</td>\n",
              "      <td>1</td>\n",
              "      <td>23</td>\n",
              "    </tr>\n",
              "  </tbody>\n",
              "</table>\n",
              "</div>"
            ],
            "text/plain": [
              "       latitude  longitude  ...  calculated_host_listings_count  availability_365\n",
              "48890  40.67853  -73.94995  ...                               2                 9\n",
              "48891  40.70184  -73.93317  ...                               2                36\n",
              "48892  40.81475  -73.94867  ...                               1                27\n",
              "48893  40.75751  -73.99112  ...                               6                 2\n",
              "48894  40.76404  -73.98933  ...                               1                23\n",
              "\n",
              "[5 rows x 8 columns]"
            ]
          },
          "metadata": {},
          "execution_count": 4
        }
      ]
    },
    {
      "cell_type": "markdown",
      "metadata": {
        "id": "xIyHvdQxdvbU"
      },
      "source": [
        "# Question 1\n",
        "Find a feature with missing values. How many missing values does it have?"
      ]
    },
    {
      "cell_type": "code",
      "metadata": {
        "colab": {
          "base_uri": "https://localhost:8080/"
        },
        "id": "N75brP0QdifZ",
        "outputId": "a96413f4-e6a1-4b2f-8dde-167de692dcfb"
      },
      "source": [
        "df.isnull().sum()"
      ],
      "execution_count": 5,
      "outputs": [
        {
          "output_type": "execute_result",
          "data": {
            "text/plain": [
              "latitude                              0\n",
              "longitude                             0\n",
              "price                                 0\n",
              "minimum_nights                        0\n",
              "number_of_reviews                     0\n",
              "reviews_per_month                 10052\n",
              "calculated_host_listings_count        0\n",
              "availability_365                      0\n",
              "dtype: int64"
            ]
          },
          "metadata": {},
          "execution_count": 5
        }
      ]
    },
    {
      "cell_type": "markdown",
      "metadata": {
        "id": "PDZxQZeJd9JC"
      },
      "source": [
        "According the code: reviews_per_month        has         10052 missing values"
      ]
    },
    {
      "cell_type": "markdown",
      "metadata": {
        "id": "gbar_XCoeNKg"
      },
      "source": [
        "# Question 2\n",
        "What's the median (50% percentile) for variable 'minimum_nights'?"
      ]
    },
    {
      "cell_type": "code",
      "metadata": {
        "colab": {
          "base_uri": "https://localhost:8080/"
        },
        "id": "scFyUprtd7Dx",
        "outputId": "6564b3bd-2602-4968-c0f6-79d0771e9e29"
      },
      "source": [
        "median = df['minimum_nights'].median()\n",
        "median"
      ],
      "execution_count": 6,
      "outputs": [
        {
          "output_type": "execute_result",
          "data": {
            "text/plain": [
              "3.0"
            ]
          },
          "metadata": {},
          "execution_count": 6
        }
      ]
    },
    {
      "cell_type": "markdown",
      "metadata": {
        "id": "w-IMNdg3estr"
      },
      "source": [
        "# Split the data\n",
        "\n",
        "```\n",
        "1. Shuffle the initial dataset, use seed 42.\n",
        "2. Split your data in train/val/test sets, with 60%/20%/20% distribution.\n",
        "3. Make sure that the target value ('price') is not in your dataframe.\n",
        "4. Apply the log transformation to the price variable using the np.log1p() function.\n",
        "\n",
        "\n",
        "\n",
        "\n",
        "```\n",
        "\n"
      ]
    },
    {
      "cell_type": "code",
      "metadata": {
        "id": "K1IbQj_Tekn7"
      },
      "source": [
        "np.random.seed(42)\n",
        "n = len(df)\n",
        "#print(n)\n",
        "n_val = int(0.2 * n)\n",
        "n_test =  int(0.2 * n)\n",
        "n_train = n - (n_val + n_test)\n",
        "#print(n_val, n_test, n_train)\n",
        "idx = np.arange(n)\n",
        "#  Shuffle the initial dataset, use seed 42.\n",
        "np.random.shuffle(idx)\n",
        "df_shuffled = df.iloc[idx]\n",
        "# Split your data in train/val/test sets, with 60%/20%/20% distribution.\n",
        "df_train = df_shuffled.iloc[:n_train].copy()\n",
        "df_val = df_shuffled.iloc[n_train:n_train+n_val].copy()\n",
        "df_test = df_shuffled.iloc[n_train+n_val:].copy()\n",
        "# Make sure that the target value ('price') is not in your dataframe.\n",
        "# Apply the log transformation to the price variable using the np.log1p() function.\n",
        "y_train_orig = df_train.price.values\n",
        "y_val_orig = df_val.price.values\n",
        "y_test_orig = df_test.price.values\n",
        "\n",
        "y_train = np.log1p(df_train.price.values)\n",
        "y_val = np.log1p(df_val.price.values)\n",
        "y_test = np.log1p(df_test.price.values)\n",
        "\n",
        "\n",
        "del df_train['price']\n",
        "del df_val['price']\n",
        "del df_test['price']\n",
        "\n",
        "\n"
      ],
      "execution_count": 7,
      "outputs": []
    },
    {
      "cell_type": "markdown",
      "metadata": {
        "id": "DdyQsxNhizZs"
      },
      "source": [
        "# Question 3\n",
        "\n",
        "*  We need to deal with missing values for the column from Q1.\n",
        "* We have two options: fill it with 0 or with the mean of this variable.\n",
        "*   Try both options. For each, train a linear regression model without regularization using the code from the lessons.\n",
        "*  For computing the mean, use the training only!\n",
        "*  Use the validation dataset to evaluate the models and compare the RMSE of each option.\n",
        "*  Round the RMSE scores to 2 decimal digits using round(score, 2)\n",
        "*  Which option gives better RMSE?\n",
        "\n"
      ]
    },
    {
      "cell_type": "code",
      "metadata": {
        "colab": {
          "base_uri": "https://localhost:8080/",
          "height": 202
        },
        "id": "l0vkOfXG4RLX",
        "outputId": "d92d55df-8e12-4db6-e299-1263d7d3843b"
      },
      "source": [
        "df_train.head()"
      ],
      "execution_count": 8,
      "outputs": [
        {
          "output_type": "execute_result",
          "data": {
            "text/html": [
              "<div>\n",
              "<style scoped>\n",
              "    .dataframe tbody tr th:only-of-type {\n",
              "        vertical-align: middle;\n",
              "    }\n",
              "\n",
              "    .dataframe tbody tr th {\n",
              "        vertical-align: top;\n",
              "    }\n",
              "\n",
              "    .dataframe thead th {\n",
              "        text-align: right;\n",
              "    }\n",
              "</style>\n",
              "<table border=\"1\" class=\"dataframe\">\n",
              "  <thead>\n",
              "    <tr style=\"text-align: right;\">\n",
              "      <th></th>\n",
              "      <th>latitude</th>\n",
              "      <th>longitude</th>\n",
              "      <th>minimum_nights</th>\n",
              "      <th>number_of_reviews</th>\n",
              "      <th>reviews_per_month</th>\n",
              "      <th>calculated_host_listings_count</th>\n",
              "      <th>availability_365</th>\n",
              "    </tr>\n",
              "  </thead>\n",
              "  <tbody>\n",
              "    <tr>\n",
              "      <th>879</th>\n",
              "      <td>40.64354</td>\n",
              "      <td>-73.97777</td>\n",
              "      <td>3</td>\n",
              "      <td>62</td>\n",
              "      <td>0.71</td>\n",
              "      <td>1</td>\n",
              "      <td>189</td>\n",
              "    </tr>\n",
              "    <tr>\n",
              "      <th>44383</th>\n",
              "      <td>40.70666</td>\n",
              "      <td>-73.90779</td>\n",
              "      <td>21</td>\n",
              "      <td>0</td>\n",
              "      <td>NaN</td>\n",
              "      <td>1</td>\n",
              "      <td>73</td>\n",
              "    </tr>\n",
              "    <tr>\n",
              "      <th>15394</th>\n",
              "      <td>40.76116</td>\n",
              "      <td>-73.99016</td>\n",
              "      <td>2</td>\n",
              "      <td>17</td>\n",
              "      <td>0.43</td>\n",
              "      <td>1</td>\n",
              "      <td>0</td>\n",
              "    </tr>\n",
              "    <tr>\n",
              "      <th>43230</th>\n",
              "      <td>40.70763</td>\n",
              "      <td>-74.01050</td>\n",
              "      <td>2</td>\n",
              "      <td>5</td>\n",
              "      <td>1.88</td>\n",
              "      <td>327</td>\n",
              "      <td>272</td>\n",
              "    </tr>\n",
              "    <tr>\n",
              "      <th>16332</th>\n",
              "      <td>40.79658</td>\n",
              "      <td>-73.93287</td>\n",
              "      <td>2</td>\n",
              "      <td>30</td>\n",
              "      <td>0.80</td>\n",
              "      <td>1</td>\n",
              "      <td>30</td>\n",
              "    </tr>\n",
              "  </tbody>\n",
              "</table>\n",
              "</div>"
            ],
            "text/plain": [
              "       latitude  longitude  ...  calculated_host_listings_count  availability_365\n",
              "879    40.64354  -73.97777  ...                               1               189\n",
              "44383  40.70666  -73.90779  ...                               1                73\n",
              "15394  40.76116  -73.99016  ...                               1                 0\n",
              "43230  40.70763  -74.01050  ...                             327               272\n",
              "16332  40.79658  -73.93287  ...                               1                30\n",
              "\n",
              "[5 rows x 7 columns]"
            ]
          },
          "metadata": {},
          "execution_count": 8
        }
      ]
    },
    {
      "cell_type": "code",
      "metadata": {
        "id": "NvX5VoAgv8px"
      },
      "source": [
        "def prepare_data_0(df):\n",
        "  df1 = df.copy()\n",
        "  df1 = df1.fillna(0)\n",
        "  return df1.values"
      ],
      "execution_count": 9,
      "outputs": []
    },
    {
      "cell_type": "code",
      "metadata": {
        "id": "ZdAooS554NfL"
      },
      "source": [
        "def prepare_data_mean(df):\n",
        "  df2 = df.copy()\n",
        "  df2 = df2.fillna(df2['reviews_per_month'].mean())\n",
        "  return df2.values"
      ],
      "execution_count": 10,
      "outputs": []
    },
    {
      "cell_type": "code",
      "metadata": {
        "id": "B1kjZMwR4m3F"
      },
      "source": [
        "def train_linear_regression(X, y):\n",
        "    ones = np.ones(X.shape[0])\n",
        "    X = np.column_stack([ones, X])\n",
        "\n",
        "    XTX = X.T.dot(X)\n",
        "    XTX_inv = np.linalg.inv(XTX)\n",
        "    w_full = XTX_inv.dot(X.T).dot(y)\n",
        "    \n",
        "    return w_full[0], w_full[1:]"
      ],
      "execution_count": 11,
      "outputs": []
    },
    {
      "cell_type": "code",
      "metadata": {
        "id": "Zi2YV8bg59IZ"
      },
      "source": [
        "X_train_0 = prepare_data_0(df_train)\n",
        "X_train_mean = prepare_data_mean(df_train)\n",
        "w_0_0, w_0 = train_linear_regression(X_train_0, y_train)\n",
        "w_mean_0, w_mean = train_linear_regression(X_train_mean, y_train)"
      ],
      "execution_count": 12,
      "outputs": []
    },
    {
      "cell_type": "code",
      "metadata": {
        "id": "C57ig4qm7XFg"
      },
      "source": [
        "y_pred_0 = w_0_0 + X_train_0.dot(w_0)\n",
        "y_pred_mean = w_mean_0 + X_train_mean.dot(w_mean)"
      ],
      "execution_count": 13,
      "outputs": []
    },
    {
      "cell_type": "code",
      "metadata": {
        "colab": {
          "base_uri": "https://localhost:8080/",
          "height": 282
        },
        "id": "dR_eN4V67iY6",
        "outputId": "c0d9b53b-e29f-49de-b2c7-43a93d7ac0da"
      },
      "source": [
        "sns.histplot(y_pred_0, color='red', alpha=0.5, bins=50)\n",
        "sns.histplot(y_pred_mean, color='blue', alpha=0.5, bins=50)"
      ],
      "execution_count": 14,
      "outputs": [
        {
          "output_type": "execute_result",
          "data": {
            "text/plain": [
              "<matplotlib.axes._subplots.AxesSubplot at 0x7f5489e9ba10>"
            ]
          },
          "metadata": {},
          "execution_count": 14
        },
        {
          "output_type": "display_data",
          "data": {
            "image/png": "[encoded data removed]",
            "text/plain": [
              "<Figure size 432x288 with 1 Axes>"
            ]
          },
          "metadata": {
            "needs_background": "light"
          }
        }
      ]
    },
    {
      "cell_type": "code",
      "metadata": {
        "id": "GNryvxzP9v17"
      },
      "source": [
        "X_val_0 = prepare_data_0(df_val)\n",
        "X_val_mean = prepare_data_mean(df_val)\n",
        "y_pred_val_0 = w_0_0 + X_val_0.dot(w_0)\n",
        "y_pred_val_mean = w_mean_0 + X_val_mean.dot(w_mean)"
      ],
      "execution_count": 15,
      "outputs": []
    },
    {
      "cell_type": "code",
      "metadata": {
        "id": "d6PhVD6p7xMk"
      },
      "source": [
        "def rmse(y, y_pred):\n",
        "    se = (y - y_pred) ** 2\n",
        "    mse = se.mean()\n",
        "    return np.sqrt(mse)"
      ],
      "execution_count": 16,
      "outputs": []
    },
    {
      "cell_type": "code",
      "metadata": {
        "colab": {
          "base_uri": "https://localhost:8080/"
        },
        "id": "an5-3Y3-77mT",
        "outputId": "2f69b370-ada0-46d8-980a-2908df8d7a62"
      },
      "source": [
        "np.round(rmse(y_train, y_pred_0),2)"
      ],
      "execution_count": 17,
      "outputs": [
        {
          "output_type": "execute_result",
          "data": {
            "text/plain": [
              "0.64"
            ]
          },
          "metadata": {},
          "execution_count": 17
        }
      ]
    },
    {
      "cell_type": "code",
      "metadata": {
        "colab": {
          "base_uri": "https://localhost:8080/"
        },
        "id": "NEkak2xG7_1m",
        "outputId": "700992cc-4505-4a70-ef6f-79f661d348da"
      },
      "source": [
        "np.round(rmse(y_train, y_pred_mean),2)"
      ],
      "execution_count": 18,
      "outputs": [
        {
          "output_type": "execute_result",
          "data": {
            "text/plain": [
              "0.64"
            ]
          },
          "metadata": {},
          "execution_count": 18
        }
      ]
    },
    {
      "cell_type": "code",
      "metadata": {
        "colab": {
          "base_uri": "https://localhost:8080/"
        },
        "id": "SYkCXmHF-fcE",
        "outputId": "639e0e0d-5447-4b9c-aab1-615dc2d824ae"
      },
      "source": [
        "np.round(rmse(y_val, y_pred_val_0),2)"
      ],
      "execution_count": 19,
      "outputs": [
        {
          "output_type": "execute_result",
          "data": {
            "text/plain": [
              "0.64"
            ]
          },
          "metadata": {},
          "execution_count": 19
        }
      ]
    },
    {
      "cell_type": "code",
      "metadata": {
        "colab": {
          "base_uri": "https://localhost:8080/"
        },
        "id": "Ba-vgYy8-fYj",
        "outputId": "2d7616db-221c-4369-9ecd-a39841f304fb"
      },
      "source": [
        "np.round(rmse(y_val, y_pred_val_mean),2)"
      ],
      "execution_count": 20,
      "outputs": [
        {
          "output_type": "execute_result",
          "data": {
            "text/plain": [
              "0.64"
            ]
          },
          "metadata": {},
          "execution_count": 20
        }
      ]
    },
    {
      "cell_type": "code",
      "metadata": {
        "colab": {
          "base_uri": "https://localhost:8080/",
          "height": 282
        },
        "id": "xq4sFoDt_E0C",
        "outputId": "05dad945-1a14-4b12-e3bc-164a8ac59638"
      },
      "source": [
        "sns.histplot(y_pred_val_0, color='red', alpha=0.5, bins=50)\n",
        "sns.histplot(y_val, color='blue', alpha=0.5, bins=50)"
      ],
      "execution_count": 21,
      "outputs": [
        {
          "output_type": "execute_result",
          "data": {
            "text/plain": [
              "<matplotlib.axes._subplots.AxesSubplot at 0x7f54806aa810>"
            ]
          },
          "metadata": {},
          "execution_count": 21
        },
        {
          "output_type": "display_data",
          "data": {
            "image/png": "[encoded data removed]",
            "text/plain": [
              "<Figure size 432x288 with 1 Axes>"
            ]
          },
          "metadata": {
            "needs_background": "light"
          }
        }
      ]
    },
    {
      "cell_type": "code",
      "metadata": {
        "colab": {
          "base_uri": "https://localhost:8080/",
          "height": 282
        },
        "id": "Dlldd8nf_Eut",
        "outputId": "e740085b-344d-468e-b16f-2ddca189efce"
      },
      "source": [
        "sns.histplot(y_pred_val_mean, color='red', alpha=0.5, bins=50)\n",
        "sns.histplot(y_val, color='blue', alpha=0.5, bins=50)"
      ],
      "execution_count": 22,
      "outputs": [
        {
          "output_type": "execute_result",
          "data": {
            "text/plain": [
              "<matplotlib.axes._subplots.AxesSubplot at 0x7f54806a8e50>"
            ]
          },
          "metadata": {},
          "execution_count": 22
        },
        {
          "output_type": "display_data",
          "data": {
            "image/png": "[encoded data removed]",
            "text/plain": [
              "<Figure size 432x288 with 1 Axes>"
            ]
          },
          "metadata": {
            "needs_background": "light"
          }
        }
      ]
    },
    {
      "cell_type": "markdown",
      "metadata": {
        "id": "ek-8-E1s8cEj"
      },
      "source": [
        "# Question 4\n",
        "\n",
        "\n",
        "\n",
        "\n",
        "```\n",
        "Now let's train a regularized linear regression.\n",
        "For this question, fill the NAs with 0.\n",
        "Try different values of r from this list: [0, 0.000001, 0.0001, 0.001, 0.01, 0.1, 1, 5, 10].\n",
        "Use RMSE to evaluate the model on the validation dataset.\n",
        "Round the RMSE scores to 2 decimal digits.\n",
        "Which r gives the best RMSE?\n",
        "```\n",
        "\n",
        "\n"
      ]
    },
    {
      "cell_type": "code",
      "metadata": {
        "id": "jK-PPn1G8EFh"
      },
      "source": [
        "def train_linear_regression_reg(X, y, r=0.001):\n",
        "    ones = np.ones(X.shape[0])\n",
        "    X = np.column_stack([ones, X])\n",
        "\n",
        "    XTX = X.T.dot(X)\n",
        "    XTX = XTX + r * np.eye(XTX.shape[0])\n",
        "\n",
        "    XTX_inv = np.linalg.inv(XTX)\n",
        "    w_full = XTX_inv.dot(X.T).dot(y)\n",
        "    \n",
        "    return w_full[0], w_full[1:]"
      ],
      "execution_count": 23,
      "outputs": []
    },
    {
      "cell_type": "code",
      "metadata": {
        "id": "ZlI6iqOq80yT"
      },
      "source": [
        "w_reg_0, w_reg = train_linear_regression_reg(X_train_0, y_train)\n",
        "y_pred_reg = w_reg_0 + X_train_0.dot(w_reg)"
      ],
      "execution_count": 24,
      "outputs": []
    },
    {
      "cell_type": "code",
      "metadata": {
        "colab": {
          "base_uri": "https://localhost:8080/"
        },
        "id": "0d_ytWSs9M7r",
        "outputId": "83fed6cb-fb26-4cee-c93e-aa17b8bb8d54"
      },
      "source": [
        "np.round(rmse(y_train, y_pred_reg),2)"
      ],
      "execution_count": 25,
      "outputs": [
        {
          "output_type": "execute_result",
          "data": {
            "text/plain": [
              "0.64"
            ]
          },
          "metadata": {},
          "execution_count": 25
        }
      ]
    },
    {
      "cell_type": "code",
      "metadata": {
        "colab": {
          "base_uri": "https://localhost:8080/"
        },
        "id": "Rwrgqb13_ouC",
        "outputId": "7402401c-3d6d-4a57-fe48-4ba4a1c7627a"
      },
      "source": [
        "for r in [0, 0.000001, 0.0001, 0.001, 0.01, 0.1, 1, 5, 10]:\n",
        "    X_train = prepare_data_0(df_train)\n",
        "    w0, w = train_linear_regression_reg(X_train, y_train, r=r)\n",
        "\n",
        "    X_val = prepare_data_0(df_val)\n",
        "    y_pred = w0 + X_val.dot(w)\n",
        "    score = rmse(y_val, y_pred)\n",
        "    score = np.round(score,2)\n",
        "    print(r, w0, score)\n",
        "    "
      ],
      "execution_count": 26,
      "outputs": [
        {
          "output_type": "stream",
          "name": "stdout",
          "text": [
            "0 -419.91265807142094 0.64\n",
            "1e-06 -419.8627153336333 0.64\n",
            "0.0001 -414.97649233703777 0.64\n",
            "0.001 -375.27365241862066 0.64\n",
            "0.01 -191.78384049339815 0.66\n",
            "0.1 -32.56256054966786 0.68\n",
            "1 -3.4992168354209157 0.68\n",
            "5 -0.7033623171188026 0.68\n",
            "10 -0.35127675921831375 0.68\n"
          ]
        }
      ]
    },
    {
      "cell_type": "code",
      "metadata": {
        "colab": {
          "base_uri": "https://localhost:8080/"
        },
        "id": "pjPbFjZSAFdn",
        "outputId": "9128a1dd-507e-4a4b-af80-4c7955d4519c"
      },
      "source": [
        "for r in [0, 0.000001, 0.0001, 0.001, 0.01, 0.1, 1, 5, 10]:\n",
        "  X_train = prepare_data_0(df_train)\n",
        "  w0, w = train_linear_regression_reg(X_train, y_train, r=r)\n",
        "  X_val = prepare_data_0(df_val)\n",
        "  y_pred = w0 + X_val.dot(w)\n",
        "  score = rmse(y_val, y_pred)\n",
        "  score = np.round(score, 2)\n",
        "  print(\"For r = \", r, \" \\t RMSE is : \", score)"
      ],
      "execution_count": 27,
      "outputs": [
        {
          "output_type": "stream",
          "name": "stdout",
          "text": [
            "For r =  0  \t RMSE is :  0.64\n",
            "For r =  1e-06  \t RMSE is :  0.64\n",
            "For r =  0.0001  \t RMSE is :  0.64\n",
            "For r =  0.001  \t RMSE is :  0.64\n",
            "For r =  0.01  \t RMSE is :  0.66\n",
            "For r =  0.1  \t RMSE is :  0.68\n",
            "For r =  1  \t RMSE is :  0.68\n",
            "For r =  5  \t RMSE is :  0.68\n",
            "For r =  10  \t RMSE is :  0.68\n"
          ]
        }
      ]
    },
    {
      "cell_type": "markdown",
      "metadata": {
        "id": "EBRiTmLKVn9t"
      },
      "source": [
        "For r =  0.001  \t RMSE is :  0.64\n",
        "Looks like a gooad option"
      ]
    },
    {
      "cell_type": "markdown",
      "metadata": {
        "id": "hM7SLQSjVvAu"
      },
      "source": [
        "# Question 5\n",
        "\n",
        "*   We used seed 42 for splitting the data. Let's find out how selecting the seed influences our score.\n",
        "* Try different seed values: [0, 1, 2, 3, 4, 5, 6, 7, 8, 9].\n",
        "* For each seed, do the train/validation/test split with 60%/20%/20% distribution.\n",
        "* Fill the missing values with 0 and train a model without regularization.\n",
        "* For each seed, evaluate the model on the validation dataset and collect the RMSE scores.\n",
        "* What's the standard deviation of all the scores? To compute the standard deviation, use np.std.\n",
        "* Round the result to 3 decimal digits (round(std, 3))\n",
        "\n",
        "\n",
        "Note: Standard deviation shows how different the values are. If it's low, then all values are approximately the same. If it's high, the values are different. If standard deviation of scores is low, then our model is stable.\n",
        "\n",
        "\n",
        "\n"
      ]
    },
    {
      "cell_type": "code",
      "metadata": {
        "colab": {
          "base_uri": "https://localhost:8080/"
        },
        "id": "37FM0PolTIlk",
        "outputId": "dccc5c9d-ea53-4a9d-9c0c-4de2d7931169"
      },
      "source": [
        "score_seed = []\n",
        "for seed in [0, 1, 2, 3, 4, 5, 6, 7, 8, 9]:\n",
        "  np.random.seed(seed)\n",
        "  n = len(df)\n",
        "  #print(n)\n",
        "  n_val = int(0.2 * n)\n",
        "  n_test =  int(0.2 * n)\n",
        "  n_train = n - (n_val + n_test)\n",
        "  #print(n_val, n_test, n_train)\n",
        "  idx = np.arange(n)\n",
        "  #  Shuffle the initial dataset, use seed 42.\n",
        "  np.random.shuffle(idx)\n",
        "  df_shuffled = df.iloc[idx]\n",
        "  # Split your data in train/val/test sets, with 60%/20%/20% distribution.\n",
        "  df_train = df_shuffled.iloc[:n_train].copy()\n",
        "  df_val = df_shuffled.iloc[n_train:n_train+n_val].copy()\n",
        "  df_test = df_shuffled.iloc[n_train+n_val:].copy()\n",
        "  # Make sure that the target value ('price') is not in your dataframe.\n",
        "  # Apply the log transformation to the price variable using the np.log1p() function.\n",
        "  y_train_orig = df_train.price.values\n",
        "  y_val_orig = df_val.price.values\n",
        "  y_test_orig = df_test.price.values\n",
        "\n",
        "  y_train = np.log1p(df_train.price.values)\n",
        "  y_val = np.log1p(df_val.price.values)\n",
        "  y_test = np.log1p(df_test.price.values)\n",
        "\n",
        "\n",
        "  del df_train['price']\n",
        "  del df_val['price']\n",
        "  del df_test['price']\n",
        "\n",
        "  #Fill the missing values with 0 and train a model without regularization.\n",
        "  X_train_0 = prepare_data_0(df_train)\n",
        "  w_0_0, w_0 = train_linear_regression(X_train_0, y_train)\n",
        "\n",
        "  # For each seed, evaluate the model on the validation dataset and collect the RMSE scores.\n",
        "  X_val_0 = prepare_data_0(df_val)\n",
        "  y_pred_val_0 = w_0_0 + X_val_0.dot(w_0)\n",
        "\n",
        "  # RMSE \n",
        "  score = rmse(y_val, y_pred_val_0)\n",
        "  score_seed.append(score)\n",
        "  score = np.round(score,2)\n",
        "  print(\"For seed = \", seed, \" \\t RMSE score : \", score)\n",
        "\n",
        "# What's the standard deviation of all the scores? To compute the standard deviation, use np.std.\n",
        "# Round the result to 3 decimal digits (round(std, 3))\n",
        "print(\"The Standard Deviation of scores for different seed values is :\\t\", np.round(np.std(score_seed),3))\n"
      ],
      "execution_count": 28,
      "outputs": [
        {
          "output_type": "stream",
          "name": "stdout",
          "text": [
            "For seed =  0  \t RMSE score :  0.65\n",
            "For seed =  1  \t RMSE score :  0.65\n",
            "For seed =  2  \t RMSE score :  0.65\n",
            "For seed =  3  \t RMSE score :  0.64\n",
            "For seed =  4  \t RMSE score :  0.64\n",
            "For seed =  5  \t RMSE score :  0.63\n",
            "For seed =  6  \t RMSE score :  0.63\n",
            "For seed =  7  \t RMSE score :  0.65\n",
            "For seed =  8  \t RMSE score :  0.65\n",
            "For seed =  9  \t RMSE score :  0.64\n",
            "The Standard Deviation of scores for different seed values is :\t 0.008\n"
          ]
        }
      ]
    },
    {
      "cell_type": "markdown",
      "metadata": {
        "id": "vx8ifz-9ZsYk"
      },
      "source": [
        "# Question 6\n",
        "* Split the dataset like previously, use seed 9.\n",
        "* Combine train and validation datasets.\n",
        "* Fill the missing values with 0 and train a model with r=0.001.\n",
        "* What's the RMSE on the test dataset?"
      ]
    },
    {
      "cell_type": "code",
      "metadata": {
        "id": "FX2CZRh3Wwux"
      },
      "source": [
        "# Split the dataset like previously, use seed 9.\n",
        "\n",
        "np.random.seed(9)\n",
        "n = len(df)\n",
        "#print(n)\n",
        "n_val = int(0.2 * n)\n",
        "n_test =  int(0.2 * n)\n",
        "n_train = n - (n_val + n_test)\n",
        "#print(n_val, n_test, n_train)\n",
        "idx = np.arange(n)\n",
        "#  Shuffle the initial dataset, use seed 42.\n",
        "np.random.shuffle(idx)\n",
        "df_shuffled = df.iloc[idx]\n",
        "# Split your data in train/val/test sets, with 60%/20%/20% distribution.\n",
        "df_train = df_shuffled.iloc[:n_train].copy()\n",
        "df_val = df_shuffled.iloc[n_train:n_train+n_val].copy()\n",
        "df_test = df_shuffled.iloc[n_train+n_val:].copy()\n",
        "# Make sure that the target value ('price') is not in your dataframe.\n",
        "# Apply the log transformation to the price variable using the np.log1p() function.\n",
        "y_train_orig = df_train.price.values\n",
        "y_val_orig = df_val.price.values\n",
        "y_test_orig = df_test.price.values\n",
        "\n",
        "y_train = np.log1p(df_train.price.values)\n",
        "y_val = np.log1p(df_val.price.values)\n",
        "y_test = np.log1p(df_test.price.values)\n",
        "\n",
        "\n",
        "del df_train['price']\n",
        "del df_val['price']\n",
        "del df_test['price']"
      ],
      "execution_count": 29,
      "outputs": []
    },
    {
      "cell_type": "code",
      "metadata": {
        "colab": {
          "base_uri": "https://localhost:8080/",
          "height": 414
        },
        "id": "W1tDA6_KaV3A",
        "outputId": "6badf07f-4090-4924-f318-ac748253b1cd"
      },
      "source": [
        "# Combine train and validation datasets. \n",
        "\n",
        "df_train_full = pd.concat([df_train, df_val])\n",
        "df_train_full = df_train_full.reset_index(drop = True)\n",
        "df_train_full"
      ],
      "execution_count": 30,
      "outputs": [
        {
          "output_type": "execute_result",
          "data": {
            "text/html": [
              "<div>\n",
              "<style scoped>\n",
              "    .dataframe tbody tr th:only-of-type {\n",
              "        vertical-align: middle;\n",
              "    }\n",
              "\n",
              "    .dataframe tbody tr th {\n",
              "        vertical-align: top;\n",
              "    }\n",
              "\n",
              "    .dataframe thead th {\n",
              "        text-align: right;\n",
              "    }\n",
              "</style>\n",
              "<table border=\"1\" class=\"dataframe\">\n",
              "  <thead>\n",
              "    <tr style=\"text-align: right;\">\n",
              "      <th></th>\n",
              "      <th>latitude</th>\n",
              "      <th>longitude</th>\n",
              "      <th>minimum_nights</th>\n",
              "      <th>number_of_reviews</th>\n",
              "      <th>reviews_per_month</th>\n",
              "      <th>calculated_host_listings_count</th>\n",
              "      <th>availability_365</th>\n",
              "    </tr>\n",
              "  </thead>\n",
              "  <tbody>\n",
              "    <tr>\n",
              "      <th>0</th>\n",
              "      <td>40.70423</td>\n",
              "      <td>-73.91595</td>\n",
              "      <td>1</td>\n",
              "      <td>3</td>\n",
              "      <td>0.13</td>\n",
              "      <td>1</td>\n",
              "      <td>0</td>\n",
              "    </tr>\n",
              "    <tr>\n",
              "      <th>1</th>\n",
              "      <td>40.77115</td>\n",
              "      <td>-73.92275</td>\n",
              "      <td>40</td>\n",
              "      <td>23</td>\n",
              "      <td>0.27</td>\n",
              "      <td>1</td>\n",
              "      <td>207</td>\n",
              "    </tr>\n",
              "    <tr>\n",
              "      <th>2</th>\n",
              "      <td>40.70401</td>\n",
              "      <td>-74.00932</td>\n",
              "      <td>29</td>\n",
              "      <td>0</td>\n",
              "      <td>NaN</td>\n",
              "      <td>96</td>\n",
              "      <td>1</td>\n",
              "    </tr>\n",
              "    <tr>\n",
              "      <th>3</th>\n",
              "      <td>40.74526</td>\n",
              "      <td>-73.97679</td>\n",
              "      <td>30</td>\n",
              "      <td>1</td>\n",
              "      <td>0.04</td>\n",
              "      <td>23</td>\n",
              "      <td>365</td>\n",
              "    </tr>\n",
              "    <tr>\n",
              "      <th>4</th>\n",
              "      <td>40.59349</td>\n",
              "      <td>-73.76377</td>\n",
              "      <td>1</td>\n",
              "      <td>1</td>\n",
              "      <td>0.16</td>\n",
              "      <td>1</td>\n",
              "      <td>90</td>\n",
              "    </tr>\n",
              "    <tr>\n",
              "      <th>...</th>\n",
              "      <td>...</td>\n",
              "      <td>...</td>\n",
              "      <td>...</td>\n",
              "      <td>...</td>\n",
              "      <td>...</td>\n",
              "      <td>...</td>\n",
              "      <td>...</td>\n",
              "    </tr>\n",
              "    <tr>\n",
              "      <th>39111</th>\n",
              "      <td>40.69440</td>\n",
              "      <td>-73.92420</td>\n",
              "      <td>3</td>\n",
              "      <td>26</td>\n",
              "      <td>2.43</td>\n",
              "      <td>1</td>\n",
              "      <td>3</td>\n",
              "    </tr>\n",
              "    <tr>\n",
              "      <th>39112</th>\n",
              "      <td>40.67133</td>\n",
              "      <td>-73.94526</td>\n",
              "      <td>2</td>\n",
              "      <td>8</td>\n",
              "      <td>0.40</td>\n",
              "      <td>1</td>\n",
              "      <td>0</td>\n",
              "    </tr>\n",
              "    <tr>\n",
              "      <th>39113</th>\n",
              "      <td>40.72982</td>\n",
              "      <td>-73.98593</td>\n",
              "      <td>2</td>\n",
              "      <td>2</td>\n",
              "      <td>0.11</td>\n",
              "      <td>1</td>\n",
              "      <td>0</td>\n",
              "    </tr>\n",
              "    <tr>\n",
              "      <th>39114</th>\n",
              "      <td>40.71969</td>\n",
              "      <td>-73.95620</td>\n",
              "      <td>1</td>\n",
              "      <td>1</td>\n",
              "      <td>0.02</td>\n",
              "      <td>1</td>\n",
              "      <td>0</td>\n",
              "    </tr>\n",
              "    <tr>\n",
              "      <th>39115</th>\n",
              "      <td>40.66949</td>\n",
              "      <td>-73.92172</td>\n",
              "      <td>1</td>\n",
              "      <td>6</td>\n",
              "      <td>1.91</td>\n",
              "      <td>2</td>\n",
              "      <td>323</td>\n",
              "    </tr>\n",
              "  </tbody>\n",
              "</table>\n",
              "<p>39116 rows × 7 columns</p>\n",
              "</div>"
            ],
            "text/plain": [
              "       latitude  longitude  ...  calculated_host_listings_count  availability_365\n",
              "0      40.70423  -73.91595  ...                               1                 0\n",
              "1      40.77115  -73.92275  ...                               1               207\n",
              "2      40.70401  -74.00932  ...                              96                 1\n",
              "3      40.74526  -73.97679  ...                              23               365\n",
              "4      40.59349  -73.76377  ...                               1                90\n",
              "...         ...        ...  ...                             ...               ...\n",
              "39111  40.69440  -73.92420  ...                               1                 3\n",
              "39112  40.67133  -73.94526  ...                               1                 0\n",
              "39113  40.72982  -73.98593  ...                               1                 0\n",
              "39114  40.71969  -73.95620  ...                               1                 0\n",
              "39115  40.66949  -73.92172  ...                               2               323\n",
              "\n",
              "[39116 rows x 7 columns]"
            ]
          },
          "metadata": {},
          "execution_count": 30
        }
      ]
    },
    {
      "cell_type": "code",
      "metadata": {
        "colab": {
          "base_uri": "https://localhost:8080/"
        },
        "id": "F7gouag9azdj",
        "outputId": "8bdc5486-0c88-4cf6-f245-ad49a4c075b7"
      },
      "source": [
        "# Fill the missing values with 0\n",
        "X_train_full = prepare_data_0(df_train_full)\n",
        "X_train_full"
      ],
      "execution_count": 31,
      "outputs": [
        {
          "output_type": "execute_result",
          "data": {
            "text/plain": [
              "array([[ 4.070423e+01, -7.391595e+01,  1.000000e+00, ...,  1.300000e-01,\n",
              "         1.000000e+00,  0.000000e+00],\n",
              "       [ 4.077115e+01, -7.392275e+01,  4.000000e+01, ...,  2.700000e-01,\n",
              "         1.000000e+00,  2.070000e+02],\n",
              "       [ 4.070401e+01, -7.400932e+01,  2.900000e+01, ...,  0.000000e+00,\n",
              "         9.600000e+01,  1.000000e+00],\n",
              "       ...,\n",
              "       [ 4.072982e+01, -7.398593e+01,  2.000000e+00, ...,  1.100000e-01,\n",
              "         1.000000e+00,  0.000000e+00],\n",
              "       [ 4.071969e+01, -7.395620e+01,  1.000000e+00, ...,  2.000000e-02,\n",
              "         1.000000e+00,  0.000000e+00],\n",
              "       [ 4.066949e+01, -7.392172e+01,  1.000000e+00, ...,  1.910000e+00,\n",
              "         2.000000e+00,  3.230000e+02]])"
            ]
          },
          "metadata": {},
          "execution_count": 31
        }
      ]
    },
    {
      "cell_type": "code",
      "metadata": {
        "colab": {
          "base_uri": "https://localhost:8080/"
        },
        "id": "1D_GEcICbIT8",
        "outputId": "cd452f2d-1987-4bbc-ae89-6567f3f7ca1a"
      },
      "source": [
        "y_train_full = np.concatenate([y_train, y_val])\n",
        "y_train_full"
      ],
      "execution_count": 32,
      "outputs": [
        {
          "output_type": "execute_result",
          "data": {
            "text/plain": [
              "array([4.33073334, 4.24849524, 5.19295685, ..., 4.94875989, 5.37527841,\n",
              "       4.18965474])"
            ]
          },
          "metadata": {},
          "execution_count": 32
        }
      ]
    },
    {
      "cell_type": "code",
      "metadata": {
        "colab": {
          "base_uri": "https://localhost:8080/"
        },
        "id": "0WlfjTEYbWHm",
        "outputId": "6b148641-67fd-439a-fc64-2cfd8569bc1e"
      },
      "source": [
        "#  train a model with r=0.001\n",
        "w0, w = train_linear_regression_reg(X_train_full, y_train_full, r=0.001)\n",
        "print(w0, w)\n"
      ],
      "execution_count": 33,
      "outputs": [
        {
          "output_type": "stream",
          "name": "stdout",
          "text": [
            "-389.1162944988868 [ 1.21715497e+00 -4.65471642e+00 -7.46757415e-04 -4.79157368e-04\n",
            " -7.65848383e-03  1.39687364e-03  6.06247709e-04]\n"
          ]
        }
      ]
    },
    {
      "cell_type": "code",
      "metadata": {
        "colab": {
          "base_uri": "https://localhost:8080/"
        },
        "id": "XT0jbRU0bufD",
        "outputId": "3500c77a-62cd-412b-8e1b-e38a563b2ece"
      },
      "source": [
        "X_test = prepare_data_0(df_test)\n",
        "prediction = w0 + X_test.dot(w)\n",
        "prediction"
      ],
      "execution_count": 34,
      "outputs": [
        {
          "output_type": "execute_result",
          "data": {
            "text/plain": [
              "array([4.97555157, 4.41400754, 4.82798035, ..., 4.65114636, 4.87922308,\n",
              "       4.82319647])"
            ]
          },
          "metadata": {},
          "execution_count": 34
        }
      ]
    },
    {
      "cell_type": "code",
      "metadata": {
        "colab": {
          "base_uri": "https://localhost:8080/"
        },
        "id": "n_ECHLFPcAp6",
        "outputId": "3ba98230-f2d5-4a76-b3d6-e1743fc4dc54"
      },
      "source": [
        "score_test = rmse(y_test, prediction)\n",
        "print(\"Score on test data:\\t\", np.round(score_test,2))"
      ],
      "execution_count": 36,
      "outputs": [
        {
          "output_type": "stream",
          "name": "stdout",
          "text": [
            "Score on test data:\t 0.65\n"
          ]
        }
      ]
    },
    {
      "cell_type": "code",
      "metadata": {
        "id": "9ew7YaLCcIEB"
      },
      "source": [
        ""
      ],
      "execution_count": 35,
      "outputs": []
    }
  ]
}